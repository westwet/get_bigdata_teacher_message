{
 "cells": [
  {
   "cell_type": "code",
   "execution_count": 64,
   "metadata": {},
   "outputs": [],
   "source": [
    "from selenium import webdriver\n",
    "import time\n",
    "import bs4\n",
    "import pandas as pd\n",
    "from bs4 import BeautifulSoup\n",
    "import requests"
   ]
  },
  {
   "cell_type": "code",
   "execution_count": 2,
   "metadata": {},
   "outputs": [],
   "source": [
    "driver = webdriver.Firefox(executable_path = 'C:\\Program Files\\Mozilla Firefox\\geckodriver')\n",
    "driver.get(\"http://cs.bit.edu.cn/szdw/jsml/index.htm\")\n",
    "soup = BeautifulSoup(driver.page_source,'lxml')\n",
    "soup"
   ]
  },
  {
   "cell_type": "code",
   "execution_count": 6,
   "metadata": {},
   "outputs": [],
   "source": [
    "a_labels = soup.find_all('a',attrs = {'href':True})#找到链接的位置在哪"
   ]
  },
  {
   "cell_type": "code",
   "execution_count": 8,
   "metadata": {},
   "outputs": [],
   "source": [
    "l = []\n",
    "for i in a_labels:\n",
    "    l.append(str(i))"
   ]
  },
  {
   "cell_type": "code",
   "execution_count": 9,
   "metadata": {},
   "outputs": [
    {
     "data": {
      "text/plain": [
       "61"
      ]
     },
     "execution_count": 9,
     "metadata": {},
     "output_type": "execute_result"
    }
   ],
   "source": [
    "l.index('<a href=\"js/mh/index.htm\">梅宏</a>')"
   ]
  },
  {
   "cell_type": "code",
   "execution_count": 11,
   "metadata": {},
   "outputs": [],
   "source": []
  },
  {
   "cell_type": "code",
   "execution_count": 12,
   "metadata": {},
   "outputs": [],
   "source": [
    "url_all = []\n",
    "for a in a_labels[l.index('<a href=\"js/mh/index.htm\">梅宏</a>'):]:\n",
    "    url_all.append(a.get('href'))#挑出了所有老师的网页。"
   ]
  },
  {
   "cell_type": "code",
   "execution_count": 13,
   "metadata": {},
   "outputs": [],
   "source": [
    "url1 = url_all[0]"
   ]
  },
  {
   "cell_type": "code",
   "execution_count": 14,
   "metadata": {},
   "outputs": [],
   "source": [
    "url1='http://cs.bit.edu.cn/szdw/jsml/'+url1"
   ]
  },
  {
   "cell_type": "code",
   "execution_count": 15,
   "metadata": {},
   "outputs": [],
   "source": [
    "page = requests.get(url1)"
   ]
  },
  {
   "cell_type": "code",
   "execution_count": 16,
   "metadata": {},
   "outputs": [],
   "source": [
    "page.encoding='utf-8'\n",
    "te = BeautifulSoup(page.text)"
   ]
  },
  {
   "cell_type": "code",
   "execution_count": 17,
   "metadata": {
    "scrolled": true
   },
   "outputs": [
    {
     "data": {
      "text/plain": [
       "[<span>姓名：</span>,\n",
       " <span>所在学科：</span>,\n",
       " <span>职称：</span>,\n",
       " <span>联系电话：</span>,\n",
       " <span>E-mail：</span>,\n",
       " <span>通信地址：</span>]"
      ]
     },
     "execution_count": 17,
     "metadata": {},
     "output_type": "execute_result"
    }
   ],
   "source": [
    "te.find_all('span')"
   ]
  },
  {
   "cell_type": "code",
   "execution_count": 23,
   "metadata": {},
   "outputs": [],
   "source": [
    "a = te.find_all('span')\n",
    "message = []\n",
    "for i in a:\n",
    "    message.append(i.next_sibling)\n",
    "b = te.find_all('h4')\n",
    "k = b[1].findNext()\n",
    "message.append(k.contents[0])"
   ]
  },
  {
   "cell_type": "code",
   "execution_count": 24,
   "metadata": {},
   "outputs": [
    {
     "data": {
      "text/plain": [
       "['梅宏',\n",
       " '计算机科学与技术',\n",
       " '教授    ',\n",
       " <br/>,\n",
       " 'meihong@bit.edu.cn',\n",
       " '\\n',\n",
       " '\\u3000\\u3000大数据、智能化软件开发方法、系统软件']"
      ]
     },
     "execution_count": 24,
     "metadata": {},
     "output_type": "execute_result"
    }
   ],
   "source": [
    "message"
   ]
  },
  {
   "cell_type": "code",
   "execution_count": 25,
   "metadata": {},
   "outputs": [],
   "source": [
    "page.close()"
   ]
  },
  {
   "cell_type": "code",
   "execution_count": 26,
   "metadata": {},
   "outputs": [
    {
     "data": {
      "text/plain": [
       "['js/mh/index.htm',\n",
       " 'js/dl/index.htm',\n",
       " 'js/dgy2018/index.htm',\n",
       " 'js/fxz/index.htm',\n",
       " 'js/hcz_20181017020343891810/index.htm',\n",
       " 'js/hr_20181016060815329317/index.htm',\n",
       " 'js/fy_20161220081302283173/index.htm',\n",
       " 'js/gp/index.htm',\n",
       " 'js/hhy/index.htm',\n",
       " 'js/hh/index.htm',\n",
       " 'js/jyd/index.htm',\n",
       " 'js/ldn_20151105112051041155/index.htm',\n",
       " 'js/lf_20181008024125659190/index.htm',\n",
       " 'js/lk/index.htm',\n",
       " 'js/lrh_2018/index.htm',\n",
       " 'js/lixin/index.htm',\n",
       " 'js/llj/index.htm',\n",
       " 'js/liangwei/index.htm',\n",
       " 'js/lb/index.htm',\n",
       " 'js/lc_20180927062826951290/index.htm',\n",
       " 'js/lh/index.htm',\n",
       " 'js/llx_2018/index.htm',\n",
       " 'js/lqh_20151105112109448246/index.htm',\n",
       " 'js/lxb/index.htm',\n",
       " 'js/luhuimei/index.htm',\n",
       " 'js/ly/index.htm',\n",
       " 'js/mb/index.htm',\n",
       " 'js/mxl_2018/index.htm',\n",
       " 'js/nzd/index.htm',\n",
       " 'js/pmt/index.htm',\n",
       " 'js/sjb/index.htm',\n",
       " 'js/shenmeng/index.htm',\n",
       " 'js/sf/index.htm',\n",
       " 'js/sdw/index.htm',\n",
       " 'js/sdd_20170821091432439000/index.htm',\n",
       " 'js/hhy_20181008070023116513/index.htm',\n",
       " 'js/tya/index.htm',\n",
       " 'js/wgr_2018/index.htm',\n",
       " 'js/wlz_/index.htm',\n",
       " 'js/wsl_20181009021916886608/index.htm',\n",
       " 'js/wxx/index.htm',\n",
       " 'js/wyw/index.htm',\n",
       " 'js/xjf_20181008073713071917/index.htm',\n",
       " 'js/ys2018/index.htm',\n",
       " 'js/zl_20181011062354395213/index.htm',\n",
       " 'js/zmh/index.htm',\n",
       " 'js/zqj/index.htm',\n",
       " 'js/zj_20180309031405014376/index.htm',\n",
       " 'js/zlh/index.htm',\n",
       " 'fjs/cyf/index.htm',\n",
       " 'fjs/dl_20190411015842991694/index.htm',\n",
       " 'fjs/dhj_20180621112746284219/index.htm',\n",
       " 'fjs/dgy/index.htm',\n",
       " 'fjs/cc/index.htm',\n",
       " 'fjs/fc/index.htm',\n",
       " 'fjs/fy_20161220081302283173_20190411071731238011/index.htm',\n",
       " 'fjs/gkk_20180621115652294038/index.htm',\n",
       " 'fjs/gcx/index.htm',\n",
       " 'fjs/ggy/index.htm',\n",
       " 'fjs/gy_/index.htm',\n",
       " 'fjs/gyj/index.htm',\n",
       " 'fjs/ggs/index.htm',\n",
       " 'fjs/gp_20190411020432526192/index.htm',\n",
       " 'fjs/gyh_/index.htm',\n",
       " 'fjs/hr_20181016060815329317_20190411020341449556/index.htm',\n",
       " 'http://cs.bit.edu.cn/szdw/jsml/js/hhy/index.htm',\n",
       " 'fjs/hty/index.htm',\n",
       " 'fjs/hyg/index.htm',\n",
       " 'fjs/hcz_20181017020343891810_20190411020326662743/index.htm',\n",
       " 'fjs/jwx/index.htm',\n",
       " 'fjs/jyd_20190411020448516232/index.htm',\n",
       " 'fjs/jp_/index.htm',\n",
       " 'fjs/jbs/index.htm',\n",
       " 'fjs/jp_20181008074637913331/index.htm',\n",
       " 'fjs/jfs_/index.htm',\n",
       " 'fjs/lx/index.htm',\n",
       " 'fjs/ldn_/index.htm',\n",
       " 'fjs/lf_/index.htm',\n",
       " 'fjs/lfx/index.htm',\n",
       " 'fjs/ljw/index.htm',\n",
       " 'fjs/lk_20190411020456159346/index.htm',\n",
       " 'http://cs.bit.edu.cn/szdw/jsml/js/lrh_2018/index.htm',\n",
       " 'fjs/ls/index.htm',\n",
       " 'fjs/lxs/index.htm',\n",
       " 'fjs/lyg/index.htm',\n",
       " 'fjs/lyz_/index.htm',\n",
       " 'fjs/lw/index.htm',\n",
       " 'http://cs.bit.edu.cn/szdw/jsml/js/llj/index.htm',\n",
       " 'fjs/lb_20190523064333115874/index.htm',\n",
       " 'fjs/lc_20180927062826951290_20190411020511703152/index.htm',\n",
       " 'http://cs.bit.edu.cn/szdw/jsml/js/lh/index.htm',\n",
       " 'http://cs.bit.edu.cn/szdw/jsml/js/llx_2018/index.htm',\n",
       " 'fjs/lqh2018/index.htm',\n",
       " 'fjs/lqx/index.htm',\n",
       " 'http://cs.bit.edu.cn/szdw/jsml/js/lxb/index.htm',\n",
       " 'http://cs.bit.edu.cn/szdw/jsml/js/luhuimei/index.htm',\n",
       " 'http://cs.bit.edu.cn/szdw/jsml/js/ly/index.htm',\n",
       " 'http://cs.bit.edu.cn/szdw/jsml/js/mb/index.htm',\n",
       " 'fjs/mr/index.htm',\n",
       " 'fjs/mzm/index.htm',\n",
       " 'http://cs.bit.edu.cn/szdw/jsml/js/mxl_2018/index.htm',\n",
       " 'http://cs.bit.edu.cn/szdw/jsml/js/nzd/index.htm',\n",
       " 'fjs/pjh/index.htm',\n",
       " 'fjs/pmt_/index.htm',\n",
       " 'fjs/pt/index.htm',\n",
       " 'fjs/sc/index.htm',\n",
       " 'http://cs.bit.edu.cn/szdw/jsml/js/sjb/index.htm',\n",
       " 'fjs/sm/index.htm',\n",
       " 'fjs/scy/index.htm',\n",
       " 'http://cs.bit.edu.cn/szdw/jsml/js/sf/index.htm',\n",
       " 'fjs/ssm/index.htm',\n",
       " 'fjs/st/index.htm',\n",
       " 'fjs/sdw_20190429011417159728/index.htm',\n",
       " 'http://cs.bit.edu.cn/szdw/jsml/js/sdd_20170821091432439000/index.htm',\n",
       " 'fjs/hhy_20181008070023116513_20190411020525276930/index.htm',\n",
       " 'fjs/shy/index.htm',\n",
       " 'fjs/sx/index.htm',\n",
       " 'http://cs.bit.edu.cn/szdw/jsml/js/tya/index.htm',\n",
       " 'fjs/tsp/index.htm',\n",
       " 'fjs/tdh/index.htm',\n",
       " 'fjs/wangan/index.htm',\n",
       " 'fjs/wcw/index.htm',\n",
       " 'http://cs.bit.edu.cn/szdw/jsml/js/wgr_2018/index.htm',\n",
       " 'fjs/wj1/index.htm',\n",
       " 'fjs/wlz/index.htm',\n",
       " 'fjs/wqy/index.htm',\n",
       " 'fjs/wsl/index.htm',\n",
       " 'fjs/wwm/index.htm',\n",
       " 'fjs/wyz1/index.htm',\n",
       " 'fjs/wy/index.htm',\n",
       " 'http://cs.bit.edu.cn/szdw/jsml/js/wxx/index.htm',\n",
       " 'fjs/wsj/index.htm',\n",
       " 'http://cs.bit.edu.cn/szdw/jsml/js/wyw/index.htm',\n",
       " 'fjs/xx/index.htm',\n",
       " 'fjs/xc/index.htm',\n",
       " 'fjs/xl/index.htm',\n",
       " 'fjs/xjf/index.htm',\n",
       " 'fjs/yb/index.htm',\n",
       " 'fjs/yx/index.htm',\n",
       " 'fjs/ys/index.htm',\n",
       " 'fjs/yy/index.htm',\n",
       " 'fjs/yhn/index.htm',\n",
       " 'fjs/yw/index.htm',\n",
       " 'fjs/zyl/index.htm',\n",
       " 'fjs/zcx/index.htm',\n",
       " 'fjs/zhp/index.htm',\n",
       " 'fjs/cyf_20181009021239955429/index.htm',\n",
       " 'http://cs.bit.edu.cn/szdw/jsml/js/zmh/index.htm',\n",
       " 'fjs/zqx/index.htm',\n",
       " 'fjs/zwy/index.htm',\n",
       " 'fjs/zzj/index.htm',\n",
       " 'fjs/zqj_20190411020542052036/index.htm',\n",
       " 'fjs/zsy/index.htm',\n",
       " 'fjs/zxl_20180927021910009525/index.htm',\n",
       " 'fjs/zhengh/index.htm',\n",
       " 'fjs/zj_20180309031405014376_20190411014225130663/index.htm',\n",
       " 'fjs/zh/index.htm',\n",
       " 'fjs/zlh_20190411020549337193/index.htm',\n",
       " 'fjs/sy/index.htm',\n",
       " 'qtjs/hyg/index.htm',\n",
       " 'qtjs/hsk/index.htm',\n",
       " 'qtjs/jxl/index.htm',\n",
       " 'qtjs/lzj/index.htm',\n",
       " 'qtjs/lyg/index.htm',\n",
       " 'qtjs/lmh_20141229092917557347/index.htm',\n",
       " 'qtjs/tmx/index.htm',\n",
       " 'qtjs/wgz/index.htm',\n",
       " 'qtjs/wh/index.htm',\n",
       " 'qtjs/zg/index.htm',\n",
       " 'qtjs/zlp/index.htm',\n",
       " 'qtjs/zq/index.htm']"
      ]
     },
     "execution_count": 26,
     "metadata": {},
     "output_type": "execute_result"
    }
   ],
   "source": [
    "url_all"
   ]
  },
  {
   "cell_type": "code",
   "execution_count": 66,
   "metadata": {},
   "outputs": [
    {
     "ename": "IndexError",
     "evalue": "list index out of range",
     "output_type": "error",
     "traceback": [
      "\u001b[1;31m---------------------------------------------------------------------------\u001b[0m",
      "\u001b[1;31mIndexError\u001b[0m                                Traceback (most recent call last)",
      "\u001b[1;32m<ipython-input-66-184c1b6353e4>\u001b[0m in \u001b[0;36m<module>\u001b[1;34m\u001b[0m\n\u001b[0;32m     11\u001b[0m         \u001b[0mmessage\u001b[0m\u001b[1;33m.\u001b[0m\u001b[0mappend\u001b[0m\u001b[1;33m(\u001b[0m\u001b[0mi\u001b[0m\u001b[1;33m.\u001b[0m\u001b[0mnext_sibling\u001b[0m\u001b[1;33m)\u001b[0m\u001b[1;31m#老师信息\u001b[0m\u001b[1;33m\u001b[0m\u001b[1;33m\u001b[0m\u001b[0m\n\u001b[0;32m     12\u001b[0m     \u001b[0mb\u001b[0m \u001b[1;33m=\u001b[0m \u001b[0mte\u001b[0m\u001b[1;33m.\u001b[0m\u001b[0mfind_all\u001b[0m\u001b[1;33m(\u001b[0m\u001b[1;34m'h4'\u001b[0m\u001b[1;33m)\u001b[0m\u001b[1;33m\u001b[0m\u001b[1;33m\u001b[0m\u001b[0m\n\u001b[1;32m---> 13\u001b[1;33m     \u001b[0mk\u001b[0m \u001b[1;33m=\u001b[0m \u001b[0mb\u001b[0m\u001b[1;33m[\u001b[0m\u001b[1;36m1\u001b[0m\u001b[1;33m]\u001b[0m\u001b[1;33m.\u001b[0m\u001b[0mfindNext\u001b[0m\u001b[1;33m(\u001b[0m\u001b[1;33m)\u001b[0m\u001b[1;31m#老师研究方向\u001b[0m\u001b[1;33m\u001b[0m\u001b[1;33m\u001b[0m\u001b[0m\n\u001b[0m\u001b[0;32m     14\u001b[0m     \u001b[0mmessage\u001b[0m\u001b[1;33m.\u001b[0m\u001b[0mappend\u001b[0m\u001b[1;33m(\u001b[0m\u001b[0mk\u001b[0m\u001b[1;33m.\u001b[0m\u001b[0mcontents\u001b[0m\u001b[1;33m[\u001b[0m\u001b[1;36m0\u001b[0m\u001b[1;33m]\u001b[0m\u001b[1;33m)\u001b[0m\u001b[1;31m#最后添加出总共的message\u001b[0m\u001b[1;33m\u001b[0m\u001b[1;33m\u001b[0m\u001b[0m\n\u001b[0;32m     15\u001b[0m     \u001b[0mlist_all\u001b[0m\u001b[1;33m.\u001b[0m\u001b[0mappend\u001b[0m\u001b[1;33m(\u001b[0m\u001b[0mmessage\u001b[0m\u001b[1;33m)\u001b[0m\u001b[1;33m\u001b[0m\u001b[1;33m\u001b[0m\u001b[0m\n",
      "\u001b[1;31mIndexError\u001b[0m: list index out of range"
     ]
    }
   ],
   "source": [
    "list_all = []\n",
    "for teacher in url_all:\n",
    "    if(teacher[:4]!='http'):\n",
    "        teacher = 'http://cs.bit.edu.cn/szdw/jsml/'+teacher#不是绝对路径就变成绝对路径\n",
    "    page = requests.get(teacher)\n",
    "    page.encoding='utf-8'\n",
    "    te = BeautifulSoup(page.text)#做处理\n",
    "    a = te.find_all('span')#找到所有的span\n",
    "    message = []\n",
    "    for i in a:\n",
    "        message.append(i.next_sibling)#老师信息\n",
    "    b = te.find_all('h4')\n",
    "    k = b[1].findNext()#老师研究方向\n",
    "    message.append(k.contents[0])#最后添加出总共的message\n",
    "    list_all.append(message)\n",
    "    page.close()"
   ]
  },
  {
   "cell_type": "code",
   "execution_count": 74,
   "metadata": {},
   "outputs": [],
   "source": [
    "teacher_all.rename(columns={0:'姓名'},inplace=True)"
   ]
  },
  {
   "cell_type": "code",
   "execution_count": 78,
   "metadata": {},
   "outputs": [],
   "source": [
    "teacher_all.rename(columns={1:'学科',2:'职称',3:'联系电话',4:'E-mail',5:'通信地址',6:'研究方向'},inplace=True)"
   ]
  },
  {
   "cell_type": "code",
   "execution_count": 81,
   "metadata": {},
   "outputs": [],
   "source": [
    "teacher_all.to_excel('C:\\\\Users\\\\NYDSJ\\\\Desktop\\\\北理工老师.xls')"
   ]
  },
  {
   "cell_type": "code",
   "execution_count": null,
   "metadata": {},
   "outputs": [],
   "source": [
    "'http://cs.bit.edu.cn/szdw/jsml'+'fefefe'"
   ]
  },
  {
   "cell_type": "code",
   "execution_count": 52,
   "metadata": {},
   "outputs": [],
   "source": [
    "url2 = url_all[1]"
   ]
  },
  {
   "cell_type": "code",
   "execution_count": 53,
   "metadata": {},
   "outputs": [],
   "source": [
    "url2 = 'http://cs.bit.edu.cn/szdw/jsml/'+url2"
   ]
  },
  {
   "cell_type": "code",
   "execution_count": 54,
   "metadata": {},
   "outputs": [],
   "source": [
    "page = requests.get(url2)\n",
    "page.encoding='utf-8'\n",
    "te = BeautifulSoup(page.text)#做处理"
   ]
  },
  {
   "cell_type": "code",
   "execution_count": 55,
   "metadata": {},
   "outputs": [],
   "source": [
    "b = te.find_all('h4')"
   ]
  },
  {
   "cell_type": "code",
   "execution_count": 56,
   "metadata": {},
   "outputs": [
    {
     "data": {
      "text/plain": [
       "<h4>科研方向</h4>"
      ]
     },
     "execution_count": 56,
     "metadata": {},
     "output_type": "execute_result"
    }
   ],
   "source": [
    "b[1]"
   ]
  },
  {
   "cell_type": "code",
   "execution_count": 63,
   "metadata": {},
   "outputs": [
    {
     "data": {
      "text/plain": [
       "'科研方向'"
      ]
     },
     "execution_count": 63,
     "metadata": {},
     "output_type": "execute_result"
    }
   ],
   "source": []
  },
  {
   "cell_type": "code",
   "execution_count": 35,
   "metadata": {},
   "outputs": [
    {
     "data": {
      "text/plain": [
       "['HTML_FORMATTERS',\n",
       " 'XML_FORMATTERS',\n",
       " '__bool__',\n",
       " '__call__',\n",
       " '__class__',\n",
       " '__contains__',\n",
       " '__copy__',\n",
       " '__delattr__',\n",
       " '__delitem__',\n",
       " '__dict__',\n",
       " '__dir__',\n",
       " '__doc__',\n",
       " '__eq__',\n",
       " '__format__',\n",
       " '__ge__',\n",
       " '__getattr__',\n",
       " '__getattribute__',\n",
       " '__getitem__',\n",
       " '__gt__',\n",
       " '__hash__',\n",
       " '__init__',\n",
       " '__init_subclass__',\n",
       " '__iter__',\n",
       " '__le__',\n",
       " '__len__',\n",
       " '__lt__',\n",
       " '__module__',\n",
       " '__ne__',\n",
       " '__new__',\n",
       " '__reduce__',\n",
       " '__reduce_ex__',\n",
       " '__repr__',\n",
       " '__setattr__',\n",
       " '__setitem__',\n",
       " '__sizeof__',\n",
       " '__str__',\n",
       " '__subclasshook__',\n",
       " '__unicode__',\n",
       " '__weakref__',\n",
       " '_all_strings',\n",
       " '_find_all',\n",
       " '_find_one',\n",
       " '_formatter_for_name',\n",
       " '_is_xml',\n",
       " '_lastRecursiveChild',\n",
       " '_last_descendant',\n",
       " '_should_pretty_print',\n",
       " 'append',\n",
       " 'attrs',\n",
       " 'can_be_empty_element',\n",
       " 'childGenerator',\n",
       " 'children',\n",
       " 'clear',\n",
       " 'contents',\n",
       " 'decode',\n",
       " 'decode_contents',\n",
       " 'decompose',\n",
       " 'descendants',\n",
       " 'encode',\n",
       " 'encode_contents',\n",
       " 'extend',\n",
       " 'extract',\n",
       " 'fetchNextSiblings',\n",
       " 'fetchParents',\n",
       " 'fetchPrevious',\n",
       " 'fetchPreviousSiblings',\n",
       " 'find',\n",
       " 'findAll',\n",
       " 'findAllNext',\n",
       " 'findAllPrevious',\n",
       " 'findChild',\n",
       " 'findChildren',\n",
       " 'findNext',\n",
       " 'findNextSibling',\n",
       " 'findNextSiblings',\n",
       " 'findParent',\n",
       " 'findParents',\n",
       " 'findPrevious',\n",
       " 'findPreviousSibling',\n",
       " 'findPreviousSiblings',\n",
       " 'find_all',\n",
       " 'find_all_next',\n",
       " 'find_all_previous',\n",
       " 'find_next',\n",
       " 'find_next_sibling',\n",
       " 'find_next_siblings',\n",
       " 'find_parent',\n",
       " 'find_parents',\n",
       " 'find_previous',\n",
       " 'find_previous_sibling',\n",
       " 'find_previous_siblings',\n",
       " 'format_string',\n",
       " 'get',\n",
       " 'getText',\n",
       " 'get_attribute_list',\n",
       " 'get_text',\n",
       " 'has_attr',\n",
       " 'has_key',\n",
       " 'hidden',\n",
       " 'index',\n",
       " 'insert',\n",
       " 'insert_after',\n",
       " 'insert_before',\n",
       " 'isSelfClosing',\n",
       " 'is_empty_element',\n",
       " 'known_xml',\n",
       " 'name',\n",
       " 'namespace',\n",
       " 'next',\n",
       " 'nextGenerator',\n",
       " 'nextSibling',\n",
       " 'nextSiblingGenerator',\n",
       " 'next_element',\n",
       " 'next_elements',\n",
       " 'next_sibling',\n",
       " 'next_siblings',\n",
       " 'parent',\n",
       " 'parentGenerator',\n",
       " 'parents',\n",
       " 'parserClass',\n",
       " 'parser_class',\n",
       " 'prefix',\n",
       " 'preserve_whitespace_tags',\n",
       " 'prettify',\n",
       " 'previous',\n",
       " 'previousGenerator',\n",
       " 'previousSibling',\n",
       " 'previousSiblingGenerator',\n",
       " 'previous_element',\n",
       " 'previous_elements',\n",
       " 'previous_sibling',\n",
       " 'previous_siblings',\n",
       " 'recursiveChildGenerator',\n",
       " 'renderContents',\n",
       " 'replaceWith',\n",
       " 'replaceWithChildren',\n",
       " 'replace_with',\n",
       " 'replace_with_children',\n",
       " 'select',\n",
       " 'select_one',\n",
       " 'setup',\n",
       " 'string',\n",
       " 'strings',\n",
       " 'stripped_strings',\n",
       " 'text',\n",
       " 'unwrap',\n",
       " 'wrap']"
      ]
     },
     "execution_count": 35,
     "metadata": {},
     "output_type": "execute_result"
    }
   ],
   "source": [
    "dir(b[1])"
   ]
  },
  {
   "cell_type": "code",
   "execution_count": null,
   "metadata": {},
   "outputs": [],
   "source": []
  }
 ],
 "metadata": {
  "kernelspec": {
   "display_name": "Python 3",
   "language": "python",
   "name": "python3"
  },
  "language_info": {
   "codemirror_mode": {
    "name": "ipython",
    "version": 3
   },
   "file_extension": ".py",
   "mimetype": "text/x-python",
   "name": "python",
   "nbconvert_exporter": "python",
   "pygments_lexer": "ipython3",
   "version": "3.7.3"
  }
 },
 "nbformat": 4,
 "nbformat_minor": 2
}
