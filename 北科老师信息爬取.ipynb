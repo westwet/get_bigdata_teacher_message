{
 "cells": [
  {
   "cell_type": "code",
   "execution_count": 1,
   "metadata": {},
   "outputs": [],
   "source": [
    "from selenium import webdriver\n",
    "import time\n",
    "import bs4\n",
    "import pandas as pd\n",
    "from bs4 import BeautifulSoup\n",
    "import requests\n",
    "driver = webdriver.Firefox(executable_path = 'C:\\Program Files\\Mozilla Firefox\\geckodriver')\n",
    "driver.get(\"http://scce.ustb.edu.cn/shiziduiwu/daoshijiansuo/\")\n",
    "soup = BeautifulSoup(driver.page_source,'lxml')\n",
    "soup"
   ]
  },
  {
   "cell_type": "code",
   "execution_count": 3,
   "metadata": {},
   "outputs": [],
   "source": [
    "a_labels = soup.find_all('a',attrs = {'href':True})#找到链接的位置在哪"
   ]
  },
  {
   "cell_type": "code",
   "execution_count": 4,
   "metadata": {},
   "outputs": [],
   "source": [
    "l = []\n",
    "for i in a_labels:\n",
    "    l.append(str(i))#其实可以不用这一步的转化，直接进入下一步就可以了"
   ]
  },
  {
   "cell_type": "code",
   "execution_count": 5,
   "metadata": {},
   "outputs": [
    {
     "data": {
      "text/plain": [
       "['<a href=\"\" target=\"_blank\">\\n<img class=\"logo\" src=\"/img/logo.png\"/>\\n</a>',\n",
       " '<a href=\"/\" target=\"\">首页</a>',\n",
       " '<a href=\"/xueyuangaikuang/\" target=\"\">学院概况</a>',\n",
       " '<a href=\"/xueyuangaikuang/xueyuanjianjie/\" target=\"\">学院简介</a>',\n",
       " '<a href=\"/xueyuangaikuang/zuzhijigou/\" target=\"\">组织机构</a>',\n",
       " '<a href=\"/xueyuangaikuang/xianrenlingdao/\" target=\"\">现任领导</a>',\n",
       " '<a href=\"/xueyuangaikuang/lishiyange/\" target=\"\">历史沿革</a>',\n",
       " '<a href=\"/xueyuangaikuang/tongjishuju/\" target=\"\">统计数据</a>',\n",
       " '<a href=\"/shiziduiwu/\" target=\"\">师资队伍</a>',\n",
       " '<a href=\"/shiziduiwu/mingshifengcai/\" target=\"\">名师风采</a>',\n",
       " '<a href=\"/shiziduiwu/xisuojiansuo/\" target=\"\">系所检索</a>',\n",
       " '<a href=\"/shiziduiwu/zhichengjiansuo/\" target=\"\">职称检索</a>',\n",
       " '<a href=\"/shiziduiwu/xingmingjiansuo/\" target=\"\">姓名检索</a>',\n",
       " '<a href=\"/shiziduiwu/xinruzhijiaoshi/\" target=\"\">新入职教师</a>',\n",
       " '<a href=\"/shiziduiwu/daoshijiansuo/\" target=\"\">按招生专业检索</a>',\n",
       " '<a href=\"/jiaoyujiaoxue/\" target=\"\">教育教学</a>',\n",
       " '<a href=\"/jiaoyujiaoxue/benkeshengpeiyang/\" target=\"\">本科生培养</a>',\n",
       " '<a href=\"/jiaoyujiaoxue/yanjiushengpeiyang/\" target=\"\">研究生培养</a>',\n",
       " '<a href=\"/jiaoyujiaoxue/chuangxinjiaoyu/\" target=\"\">创新教育</a>',\n",
       " '<a href=\"/kexueyanjiu/\" target=\"\">科学研究</a>',\n",
       " '<a href=\"/kexueyanjiu/keyantuandui/\" target=\"\">科研团队</a>',\n",
       " '<a href=\"/kexueyanjiu/keyanjidi/\" target=\"\">科研基地</a>',\n",
       " '<a href=\"/kexueyanjiu/keyanxiangmu/\" target=\"\">科研项目</a>',\n",
       " '<a href=\"/kexueyanjiu/keyanchengguo/\" target=\"\">科研成果</a>',\n",
       " '<a href=\"/kexueyanjiu/keyandongtai/\" target=\"\">科研动态</a>',\n",
       " '<a href=\"/kexueyanjiu/xueshujiaoliu/\" target=\"\">学术交流</a>',\n",
       " '<a href=\"/dangjiansizheng/\" target=\"\">党建思政</a>',\n",
       " '<a href=\"/dangjiansizheng/dangjiangongzuo/\" target=\"\">党建工作</a>',\n",
       " '<a href=\"/dangjiansizheng/xueshenggongzuo/\" target=\"\">学生工作</a>',\n",
       " '<a href=\"/dangjiansizheng/xueyuangonghui/\" target=\"\">学院工会</a>',\n",
       " '<a href=\"/hezuojiaoliu/\" target=\"\">合作交流</a>',\n",
       " '<a href=\"/hezuojiaoliu/xueshengjiaoliu/\" target=\"\">学生交流</a>',\n",
       " '<a href=\"/hezuojiaoliu/hezuobanxue/\" target=\"\">合作办学</a>',\n",
       " '<a href=\"/hezuojiaoliu/duiwaihezuo/\" target=\"\">对外合作</a>',\n",
       " '<a href=\"/hezuojiaoliu/guojihuiyi/\" target=\"\">国际会议</a>',\n",
       " '<a href=\"/guizhangzhidu/\" target=\"\">规章制度</a>',\n",
       " '<a href=\"/guizhangzhidu/dangzhengguanli/\" target=\"\">党政管理</a>',\n",
       " '<a href=\"/guizhangzhidu/xueshengpeiyang/\" target=\"\">学生培养</a>',\n",
       " '<a href=\"/guizhangzhidu/renshicaiwu/\" target=\"\">人事财务</a>',\n",
       " '<a href=\"/guizhangzhidu/anquanbaomi/\" target=\"\">安全保密</a>',\n",
       " '<a href=\"/guizhangzhidu/keyanjiangli/\" target=\"\">科研奖励</a>',\n",
       " '<a href=\"/gonggongfuwu/\" target=\"\">公共服务</a>',\n",
       " '<a href=\"/gonggongfuwu/caiwubaoxiao/\" target=\"\">财务报销</a>',\n",
       " '<a href=\"/gonggongfuwu/jiaoxuekeyan/\" target=\"\">教学科研</a>',\n",
       " '<a href=\"/gonggongfuwu/shenghuofuwu/\" target=\"\">生活服务</a>',\n",
       " '<a href=\"/gonggongfuwu/xueyuansuoyin/\" target=\"\">学院索引</a>',\n",
       " '<a href=\"/gonggongfuwu/lianxiwomen/\" target=\"\">联系我们</a>',\n",
       " '<a href=\"/1/\" target=\"\">教室预约</a>',\n",
       " '<a href=\"/rencaizhaopin/\" target=\"\">人才招聘</a>',\n",
       " '<a href=\"/shiziduiwu/mingshifengcai/\" target=\"_blank\" title=\"名师风采\">\\n<span class=\"whitespan\"></span>\\n<div>名师风采</div>\\n</a>',\n",
       " '<a href=\"/shiziduiwu/xisuojiansuo/\" target=\"_blank\" title=\"系所检索\">\\n<span class=\"whitespan\"></span>\\n<div>系所检索</div>\\n</a>',\n",
       " '<a href=\"/shiziduiwu/zhichengjiansuo/\" target=\"_blank\" title=\"职称检索\">\\n<span class=\"whitespan\"></span>\\n<div>职称检索</div>\\n</a>',\n",
       " '<a href=\"/shiziduiwu/xingmingjiansuo/\" target=\"_blank\" title=\"姓名检索\">\\n<span class=\"whitespan\"></span>\\n<div>姓名检索</div>\\n</a>',\n",
       " '<a href=\"/shiziduiwu/xinruzhijiaoshi/\" target=\"_blank\" title=\"新入职教师\">\\n<span class=\"whitespan\"></span>\\n<div>新入职教师</div>\\n</a>',\n",
       " '<a href=\"/shiziduiwu/daoshijiansuo/\" target=\"_blank\" title=\"按招生专业检索\">\\n<span class=\"isspan\"></span>\\n<div>按招生专业检索</div>\\n</a>',\n",
       " '<a href=\"/\" target=\"_blank\">\\n                    首页</a>',\n",
       " '<a href=\"/shiziduiwu/\" target=\"_blank\">师资队伍</a>',\n",
       " '<a href=\"/shiziduiwu/jiaoshixinxi/2018-04-09/35.html\" target=\"_blank\" title=\"阿孜古丽\">\\n<span class=\"name_t\">阿孜古丽</span>\\n</a>',\n",
       " '<a href=\"/shiziduiwu/jiaoshixinxi/2018-04-10/37.html\" target=\"_blank\" title=\"班晓娟\">\\n<span class=\"name_t\">班晓娟</span>\\n</a>',\n",
       " '<a href=\"/shiziduiwu/jiaoshixinxi/2018-04-12/59.html\" target=\"_blank\" title=\"陈红松\">\\n<span class=\"name_t\">陈红松</span>\\n</a>',\n",
       " '<a href=\"/shiziduiwu/jiaoshixinxi/2018-09-28/171.html\" target=\"_blank\" title=\"C. John Glossner\">\\n<span class=\"name_t\">C. John Glossner</span>\\n</a>',\n",
       " '<a href=\"/shiziduiwu/jiaoshixinxi/2018-04-11/48.html\" target=\"_blank\" title=\"段世红\">\\n<span class=\"name_t\">段世红</span>\\n</a>',\n",
       " '<a href=\"/shiziduiwu/jiaoshixinxi/2018-04-12/68.html\" target=\"_blank\" title=\"郭茜\">\\n<span class=\"name_t\">郭茜</span>\\n</a>',\n",
       " '<a href=\"/shiziduiwu/jiaoshixinxi/2018-04-12/56.html\" target=\"_blank\" title=\"胡长军\">\\n<span class=\"name_t\">胡长军</span>\\n</a>',\n",
       " '<a href=\"/shiziduiwu/jiaoshixinxi/2018-04-12/69.html\" target=\"_blank\" title=\"   何啸\">\\n<span class=\"name_t\">   何啸</span>\\n</a>',\n",
       " '<a href=\"/shiziduiwu/jiaoshixinxi/2018-04-12/70.html\" target=\"_blank\" title=\"何杰\">\\n<span class=\"name_t\">何杰</span>\\n</a>',\n",
       " '<a href=\"/shiziduiwu/jiaoshixinxi/2019-06-11/181.html\" target=\"_blank\" title=\"黄超\">\\n<span class=\"name_t\">黄超</span>\\n</a>',\n",
       " '<a href=\"/shiziduiwu/jiaoshixinxi/2018-04-11/44.html\" target=\"_blank\" title=\"刘宏伟\">\\n<span class=\"name_t\">刘宏伟</span>\\n</a>',\n",
       " '<a href=\"/shiziduiwu/jiaoshixinxi/2018-04-11/46.html\" target=\"_blank\" title=\"刘宏岚\">\\n<span class=\"name_t\">刘宏岚</span>\\n</a>',\n",
       " '<a href=\"/shiziduiwu/jiaoshixinxi/2018-04-12/58.html\" target=\"_blank\" title=\" 李建江\">\\n<span class=\"name_t\"> 李建江</span>\\n</a>',\n",
       " '<a href=\"/shiziduiwu/jiaoshixinxi/2018-04-12/60.html\" target=\"_blank\" title=\"罗熊\">\\n<span class=\"name_t\">罗熊</span>\\n</a>',\n",
       " '<a href=\"/shiziduiwu/jiaoshixinxi/2018-04-12/64.html\" target=\"_blank\" title=\"李扬\">\\n<span class=\"name_t\">李扬</span>\\n</a>',\n",
       " '<a href=\"/shiziduiwu/jiaoshixinxi/2018-04-14/120.html\" target=\"_blank\" title=\"李莉\">\\n<span class=\"name_t\">李莉</span>\\n</a>',\n",
       " '<a href=\"/shiziduiwu/jiaoshixinxi/2018-04-13/109.html\" target=\"_blank\" title=\"毛凌锋\">\\n<span class=\"name_t\">毛凌锋</span>\\n</a>',\n",
       " '<a href=\"/shiziduiwu/jiaoshixinxi/2018-04-13/108.html\" target=\"_blank\" title=\"宁焕生\">\\n<span class=\"name_t\">宁焕生</span>\\n</a>',\n",
       " '<a href=\"/shiziduiwu/jiaoshixinxi/2018-04-16/141.html\" target=\"_blank\" title=\"齐悦\">\\n<span class=\"name_t\">齐悦</span>\\n</a>',\n",
       " '<a href=\"/shiziduiwu/jiaoshixinxi/2018-04-12/63.html\" target=\"_blank\" title=\"孙昌爱\">\\n<span class=\"name_t\">孙昌爱</span>\\n</a>',\n",
       " '<a href=\"/shiziduiwu/jiaoshixinxi/2018-04-11/39.html\" target=\"_blank\" title=\"王成耀\">\\n<span class=\"name_t\">王成耀</span>\\n</a>',\n",
       " '<a href=\"/shiziduiwu/jiaoshixinxi/2018-04-11/40.html\" target=\"_blank\" title=\"王忠民\">\\n<span class=\"name_t\">王忠民</span>\\n</a>',\n",
       " '<a href=\"/shiziduiwu/jiaoshixinxi/2018-04-11/42.html\" target=\"_blank\" title=\"王宗杰\">\\n<span class=\"name_t\">王宗杰</span>\\n</a>',\n",
       " '<a href=\"/shiziduiwu/jiaoshixinxi/2018-04-11/43.html\" target=\"_blank\" title=\"王昭顺\">\\n<span class=\"name_t\">王昭顺</span>\\n</a>',\n",
       " '<a href=\"/shiziduiwu/jiaoshixinxi/2018-04-12/55.html\" target=\"_blank\" title=\"王志明\">\\n<span class=\"name_t\">王志明</span>\\n</a>',\n",
       " '<a href=\"/shiziduiwu/jiaoshixinxi/2018-04-12/61.html\" target=\"_blank\" title=\"王洪泊\">\\n<span class=\"name_t\">王洪泊</span>\\n</a>',\n",
       " '<a href=\"/shiziduiwu/jiaoshixinxi/2018-04-13/90.html\" target=\"_blank\" title=\"王龙\">\\n<span class=\"name_t\">王龙</span>\\n</a>',\n",
       " '<a href=\"/shiziduiwu/jiaoshixinxi/2018-04-13/111.html\" target=\"_blank\" title=\"王睿\">\\n<span class=\"name_t\">王睿</span>\\n</a>',\n",
       " '<a href=\"/shiziduiwu/jiaoshixinxi/2018-04-14/119.html\" target=\"_blank\" title=\"汪红兵\">\\n<span class=\"name_t\">汪红兵</span>\\n</a>',\n",
       " '<a href=\"/shiziduiwu/jiaoshixinxi/2018-04-14/123.html\" target=\"_blank\" title=\"万亚东\">\\n<span class=\"name_t\">万亚东</span>\\n</a>',\n",
       " '<a href=\"/shiziduiwu/jiaoshixinxi/2018-04-23/148.html\" target=\"_blank\" title=\"王卫苹\">\\n<span class=\"name_t\">王卫苹</span>\\n</a>',\n",
       " '<a href=\"/shiziduiwu/jiaoshixinxi/2018-04-11/41.html\" target=\"_blank\" title=\"谢永红\">\\n<span class=\"name_t\">谢永红</span>\\n</a>',\n",
       " '<a href=\"/shiziduiwu/jiaoshixinxi/2018-04-12/52.html\" target=\"_blank\" title=\"姚宣霞\">\\n<span class=\"name_t\">姚宣霞</span>\\n</a>',\n",
       " '<a href=\"/shiziduiwu/jiaoshixinxi/2018-04-12/62.html\" target=\"_blank\" title=\"殷绪成\">\\n<span class=\"name_t\">殷绪成</span>\\n</a>',\n",
       " '<a href=\"/shiziduiwu/jiaoshixinxi/2018-04-14/112.html\" target=\"_blank\" title=\"殷君君\">\\n<span class=\"name_t\">殷君君</span>\\n</a>',\n",
       " '<a href=\"/shiziduiwu/jiaoshixinxi/2018-04-23/156.html\" target=\"_blank\" title=\"杨晟淞\">\\n<span class=\"name_t\">杨晟淞</span>\\n</a>',\n",
       " '<a href=\"/shiziduiwu/jiaoshixinxi/2018-04-11/45.html\" target=\"_blank\" title=\"周芳\">\\n<span class=\"name_t\">周芳</span>\\n</a>',\n",
       " '<a href=\"/shiziduiwu/jiaoshixinxi/2018-04-11/49.html\" target=\"_blank\" title=\"曾庆峰\">\\n<span class=\"name_t\">曾庆峰</span>\\n</a>',\n",
       " '<a href=\"/shiziduiwu/jiaoshixinxi/2018-04-11/50.html\" target=\"_blank\" title=\"张晓彤\">\\n<span class=\"name_t\">张晓彤</span>\\n</a>',\n",
       " '<a href=\"/shiziduiwu/jiaoshixinxi/2018-04-12/53.html\" target=\"_blank\" title=\"张德政\">\\n<span class=\"name_t\">张德政</span>\\n</a>',\n",
       " '<a href=\"/shiziduiwu/jiaoshixinxi/2018-04-12/54.html\" target=\"_blank\" title=\"曾广平\">\\n<span class=\"name_t\">曾广平</span>\\n</a>',\n",
       " '<a href=\"/shiziduiwu/jiaoshixinxi/2018-04-12/57.html\" target=\"_blank\" title=\"张桃红\">\\n<span class=\"name_t\">张桃红</span>\\n</a>',\n",
       " '<a href=\"/shiziduiwu/jiaoshixinxi/2018-04-12/65.html\" target=\"_blank\" title=\"   张冬艳\">\\n<span class=\"name_t\">   张冬艳</span>\\n</a>',\n",
       " '<a href=\"/shiziduiwu/jiaoshixinxi/2018-04-12/66.html\" target=\"_blank\" title=\"   朱岩\">\\n<span class=\"name_t\">   朱岩</span>\\n</a>',\n",
       " '<a href=\"/shiziduiwu/jiaoshixinxi/2018-04-12/72.html\" target=\"_blank\" title=\"支瑞聪\">\\n<span class=\"name_t\">支瑞聪</span>\\n</a>',\n",
       " '<a href=\"/shiziduiwu/jiaoshixinxi/2018-04-12/73.html\" target=\"_blank\" title=\"朱超\">\\n<span class=\"name_t\">朱超</span>\\n</a>',\n",
       " '<a href=\"/shiziduiwu/jiaoshixinxi/2018-04-14/121.html\" target=\"_blank\" title=\"张敏\">\\n<span class=\"name_t\">张敏</span>\\n</a>',\n",
       " '<a href=\"/shiziduiwu/jiaoshixinxi/2019-03-26/178.html\" target=\"_blank\" title=\"祝晓斌\">\\n<span class=\"name_t\">祝晓斌</span>\\n</a>',\n",
       " '<a href=\"/shiziduiwu/jiaoshixinxi/2018-04-04/33.html\" target=\"_blank\" title=\"安建伟\">\\n<span class=\"name_t\">安建伟</span>\\n</a>',\n",
       " '<a href=\"/shiziduiwu/jiaoshixinxi/2018-04-12/77.html\" target=\"_blank\" title=\"   陈月云\">\\n<span class=\"name_t\">   陈月云</span>\\n</a>',\n",
       " '<a href=\"/shiziduiwu/jiaoshixinxi/2018-04-12/83.html\" target=\"_blank\" title=\"杜利平\">\\n<span class=\"name_t\">杜利平</span>\\n</a>',\n",
       " '<a href=\"/shiziduiwu/jiaoshixinxi/2018-04-13/98.html\" target=\"_blank\" title=\"戴晓明\">\\n<span class=\"name_t\">戴晓明</span>\\n</a>',\n",
       " '<a href=\"/shiziduiwu/jiaoshixinxi/2018-04-12/88.html\" target=\"_blank\" title=\"   冯莉芳\">\\n<span class=\"name_t\">   冯莉芳</span>\\n</a>',\n",
       " '<a href=\"/shiziduiwu/jiaoshixinxi/2018-04-12/81.html\" target=\"_blank\" title=\"   黄旗明\">\\n<span class=\"name_t\">   黄旗明</span>\\n</a>',\n",
       " '<a href=\"/shiziduiwu/jiaoshixinxi/2018-04-13/107.html\" target=\"_blank\" title=\"胡四泉\">\\n<span class=\"name_t\">胡四泉</span>\\n</a>',\n",
       " '<a href=\"/shiziduiwu/jiaoshixinxi/2019-03-18/177.html\" target=\"_blank\" title=\"皇甫伟\">\\n<span class=\"name_t\">皇甫伟</span>\\n</a>',\n",
       " '<a href=\"/shiziduiwu/jiaoshixinxi/2018-04-12/86.html\" target=\"_blank\" title=\"   刘健\">\\n<span class=\"name_t\">   刘健</span>\\n</a>',\n",
       " '<a href=\"/shiziduiwu/jiaoshixinxi/2018-04-13/95.html\" target=\"_blank\" title=\"林福宏\">\\n<span class=\"name_t\">林福宏</span>\\n</a>',\n",
       " '<a href=\"/shiziduiwu/jiaoshixinxi/2018-04-13/105.html\" target=\"_blank\" title=\"李刚\">\\n<span class=\"name_t\">李刚</span>\\n</a>',\n",
       " '<a href=\"/shiziduiwu/jiaoshixinxi/2018-04-17/145.html\" target=\"_blank\" title=\"隆克平\">\\n<span class=\"name_t\">隆克平</span>\\n</a>',\n",
       " '<a href=\"/shiziduiwu/jiaoshixinxi/2018-04-23/150.html\" target=\"_blank\" title=\"路慧敏\">\\n<span class=\"name_t\">路慧敏</span>\\n</a>',\n",
       " '<a href=\"/shiziduiwu/jiaoshixinxi/2018-04-12/84.html\" target=\"_blank\" title=\"   马忠贵\">\\n<span class=\"name_t\">   马忠贵</span>\\n</a>',\n",
       " '<a href=\"/shiziduiwu/jiaoshixinxi/2018-04-13/93.html\" target=\"_blank\" title=\" 米振强\">\\n<span class=\"name_t\"> 米振强</span>\\n</a>',\n",
       " '<a href=\"/shiziduiwu/jiaoshixinxi/2018-04-12/87.html\" target=\"_blank\" title=\"   彭云峰\">\\n<span class=\"name_t\">   彭云峰</span>\\n</a>',\n",
       " '<a href=\"/shiziduiwu/jiaoshixinxi/2018-04-23/151.html\" target=\"_blank\" title=\"任芳\">\\n<span class=\"name_t\">任芳</span>\\n</a>',\n",
       " '<a href=\"/shiziduiwu/jiaoshixinxi/2018-04-13/94.html\" target=\"_blank\" title=\" 孙奇福\">\\n<span class=\"name_t\"> 孙奇福</span>\\n</a>',\n",
       " '<a href=\"/shiziduiwu/jiaoshixinxi/2018-04-13/106.html\" target=\"_blank\" title=\"石志国\">\\n<span class=\"name_t\">石志国</span>\\n</a>',\n",
       " '<a href=\"/shiziduiwu/jiaoshixinxi/2018-04-12/79.html\" target=\"_blank\" title=\"王丽娜\">\\n<span class=\"name_t\">王丽娜</span>\\n</a>',\n",
       " '<a href=\"/shiziduiwu/jiaoshixinxi/2018-04-12/80.html\" target=\"_blank\" title=\"王建萍\">\\n<span class=\"name_t\">王建萍</span>\\n</a>',\n",
       " '<a href=\"/shiziduiwu/jiaoshixinxi/2018-04-13/102.html\" target=\"_blank\" title=\"王志良\">\\n<span class=\"name_t\">王志良</span>\\n</a>',\n",
       " '<a href=\"/shiziduiwu/jiaoshixinxi/2018-04-13/104.html\" target=\"_blank\" title=\"王先梅\">\\n<span class=\"name_t\">王先梅</span>\\n</a>',\n",
       " '<a href=\"/shiziduiwu/jiaoshixinxi/2018-04-13/96.html\" target=\"_blank\" title=\"许海涛\">\\n<span class=\"name_t\">许海涛</span>\\n</a>',\n",
       " '<a href=\"/shiziduiwu/jiaoshixinxi/2018-07-20/169.html\" target=\"_blank\" title=\"解仑\">\\n<span class=\"name_t\">解仑</span>\\n</a>',\n",
       " '<a href=\"/shiziduiwu/jiaoshixinxi/2018-04-12/78.html\" target=\"_blank\" title=\"杨裕亮\">\\n<span class=\"name_t\">杨裕亮</span>\\n</a>',\n",
       " '<a href=\"/shiziduiwu/jiaoshixinxi/2018-04-12/85.html\" target=\"_blank\" title=\"阳小龙\">\\n<span class=\"name_t\">阳小龙</span>\\n</a>',\n",
       " '<a href=\"/shiziduiwu/jiaoshixinxi/2018-04-14/115.html\" target=\"_blank\" title=\"姚琳\">\\n<span class=\"name_t\">姚琳</span>\\n</a>',\n",
       " '<a href=\"/shiziduiwu/jiaoshixinxi/2018-04-13/91.html\" target=\"_blank\" title=\"周娴\">\\n<span class=\"name_t\">周娴</span>\\n</a>',\n",
       " '<a href=\"/shiziduiwu/jiaoshixinxi/2018-04-13/100.html\" target=\"_blank\" title=\"张海君\">\\n<span class=\"name_t\">张海君</span>\\n</a>',\n",
       " '<a href=\"/shiziduiwu/jiaoshixinxi/2018-04-17/144.html\" target=\"_blank\" title=\"周贤伟\">\\n<span class=\"name_t\">周贤伟</span>\\n</a>',\n",
       " '<a href=\"http://www.ustb.edu.cn\" style=\"width: 10%\" target=\"_blank\" title=\"学校主页\">学校主页 </a>',\n",
       " '<a href=\"http://oa.ustb.edu.cn\" style=\"width: 10%\" target=\"_blank\" title=\"校园OA\">校园OA </a>',\n",
       " '<a href=\"http://mail.ustb.edu.cn/\" style=\"width: 10%\" target=\"_blank\" title=\"教工邮箱\">教工邮箱 </a>',\n",
       " '<a href=\"http://fsp.ustb.edu.cn/app.LaborClient/\" style=\"width: 10%\" target=\"_blank\" title=\"财务服务平台\">财务服务平台 </a>',\n",
       " '<a href=\"http://e.ustb.edu.cn/\" style=\"width: 10%\" target=\"_blank\" title=\"信息门户\">信息门户 </a>',\n",
       " '<a href=\"http://teach.ustb.edu.cn/\" style=\"width: 10%\" target=\"_blank\" title=\"本科生管理\">本科生管理 </a>',\n",
       " '<a href=\"http://zhaosheng.ustb.edu.cn\" style=\"width: 10%\" target=\"_blank\" title=\"本科生招生\">本科生招生 </a>',\n",
       " '<a href=\"http://gs.ustb.edu.cn/\" style=\"width: 10%\" target=\"_blank\" title=\"研究生管理\">研究生管理 </a>',\n",
       " '<a href=\"http://gs.ustb.edu.cn/\" style=\"width: 10%\" target=\"_blank\" title=\"研究生院\">研究生院 </a>',\n",
       " '<a href=\"http://lwxxgl.ustb.xiaoetong.cn/login\" style=\"width: 10%\" target=\"_blank\" title=\"论文信息管理\">论文信息管理 </a>',\n",
       " '<a href=\"http://rsc.ustb.edu.cn/\" style=\"width: 10%\" target=\"_blank\" title=\"人事处\">人事处 </a>',\n",
       " '<a href=\"http://coreej.cceu.org.cn:3410/ej/ustb/ej.htm\" style=\"width: 10%\" target=\"_blank\" title=\"期刊导航\">期刊导航 </a>',\n",
       " '<a href=\"http://lib.ustb.edu.cn/Article/ShowClass.asp?ClassID=2\" style=\"width: 10%\" target=\"_blank\" title=\"教学资源\">教学资源 </a>',\n",
       " '<a href=\"http://cc.ustb.edu.cn/eol/homepage/common/\" style=\"width: 10%\" target=\"_blank\" title=\"课程中心\">课程中心 </a>',\n",
       " '<a href=\"http://keyanchu.ustb.edu.cn/eventlist.asp\" style=\"width: 10%\" target=\"_blank\" title=\"科研通知\">科研通知 </a>',\n",
       " '<a href=\"http://jsfz.ustb.edu.cn/developCenter/home\" style=\"width: 10%\" target=\"_blank\" title=\"教师发展中心\">教师发展中心 </a>',\n",
       " '<a href=\"http://mooc.ustb.edu.cn/portal\" style=\"width: 10%\" target=\"_blank\" title=\"MOOK\">MOOK </a>']"
      ]
     },
     "execution_count": 5,
     "metadata": {},
     "output_type": "execute_result"
    }
   ],
   "source": [
    "l"
   ]
  },
  {
   "cell_type": "code",
   "execution_count": 6,
   "metadata": {},
   "outputs": [],
   "source": [
    "url_all = []\n",
    "for a in a_labels[l.index('<a href=\"/shiziduiwu/jiaoshixinxi/2018-04-09/35.html\" target=\"_blank\" title=\"阿孜古丽\">\\n<span class=\"name_t\">阿孜古丽</span>\\n</a>'):]:\n",
    "    url_all.append(a.get('href'))#挑出了所有老师网页。"
   ]
  },
  {
   "cell_type": "code",
   "execution_count": 7,
   "metadata": {},
   "outputs": [
    {
     "data": {
      "text/plain": [
       "['/shiziduiwu/jiaoshixinxi/2018-04-09/35.html',\n",
       " '/shiziduiwu/jiaoshixinxi/2018-04-10/37.html',\n",
       " '/shiziduiwu/jiaoshixinxi/2018-04-12/59.html',\n",
       " '/shiziduiwu/jiaoshixinxi/2018-09-28/171.html',\n",
       " '/shiziduiwu/jiaoshixinxi/2018-04-11/48.html',\n",
       " '/shiziduiwu/jiaoshixinxi/2018-04-12/68.html',\n",
       " '/shiziduiwu/jiaoshixinxi/2018-04-12/56.html',\n",
       " '/shiziduiwu/jiaoshixinxi/2018-04-12/69.html',\n",
       " '/shiziduiwu/jiaoshixinxi/2018-04-12/70.html',\n",
       " '/shiziduiwu/jiaoshixinxi/2019-06-11/181.html',\n",
       " '/shiziduiwu/jiaoshixinxi/2018-04-11/44.html',\n",
       " '/shiziduiwu/jiaoshixinxi/2018-04-11/46.html',\n",
       " '/shiziduiwu/jiaoshixinxi/2018-04-12/58.html',\n",
       " '/shiziduiwu/jiaoshixinxi/2018-04-12/60.html',\n",
       " '/shiziduiwu/jiaoshixinxi/2018-04-12/64.html',\n",
       " '/shiziduiwu/jiaoshixinxi/2018-04-14/120.html',\n",
       " '/shiziduiwu/jiaoshixinxi/2018-04-13/109.html',\n",
       " '/shiziduiwu/jiaoshixinxi/2018-04-13/108.html',\n",
       " '/shiziduiwu/jiaoshixinxi/2018-04-16/141.html',\n",
       " '/shiziduiwu/jiaoshixinxi/2018-04-12/63.html',\n",
       " '/shiziduiwu/jiaoshixinxi/2018-04-11/39.html',\n",
       " '/shiziduiwu/jiaoshixinxi/2018-04-11/40.html',\n",
       " '/shiziduiwu/jiaoshixinxi/2018-04-11/42.html',\n",
       " '/shiziduiwu/jiaoshixinxi/2018-04-11/43.html',\n",
       " '/shiziduiwu/jiaoshixinxi/2018-04-12/55.html',\n",
       " '/shiziduiwu/jiaoshixinxi/2018-04-12/61.html',\n",
       " '/shiziduiwu/jiaoshixinxi/2018-04-13/90.html',\n",
       " '/shiziduiwu/jiaoshixinxi/2018-04-13/111.html',\n",
       " '/shiziduiwu/jiaoshixinxi/2018-04-14/119.html',\n",
       " '/shiziduiwu/jiaoshixinxi/2018-04-14/123.html',\n",
       " '/shiziduiwu/jiaoshixinxi/2018-04-23/148.html',\n",
       " '/shiziduiwu/jiaoshixinxi/2018-04-11/41.html',\n",
       " '/shiziduiwu/jiaoshixinxi/2018-04-12/52.html',\n",
       " '/shiziduiwu/jiaoshixinxi/2018-04-12/62.html',\n",
       " '/shiziduiwu/jiaoshixinxi/2018-04-14/112.html',\n",
       " '/shiziduiwu/jiaoshixinxi/2018-04-23/156.html',\n",
       " '/shiziduiwu/jiaoshixinxi/2018-04-11/45.html',\n",
       " '/shiziduiwu/jiaoshixinxi/2018-04-11/49.html',\n",
       " '/shiziduiwu/jiaoshixinxi/2018-04-11/50.html',\n",
       " '/shiziduiwu/jiaoshixinxi/2018-04-12/53.html',\n",
       " '/shiziduiwu/jiaoshixinxi/2018-04-12/54.html',\n",
       " '/shiziduiwu/jiaoshixinxi/2018-04-12/57.html',\n",
       " '/shiziduiwu/jiaoshixinxi/2018-04-12/65.html',\n",
       " '/shiziduiwu/jiaoshixinxi/2018-04-12/66.html',\n",
       " '/shiziduiwu/jiaoshixinxi/2018-04-12/72.html',\n",
       " '/shiziduiwu/jiaoshixinxi/2018-04-12/73.html',\n",
       " '/shiziduiwu/jiaoshixinxi/2018-04-14/121.html',\n",
       " '/shiziduiwu/jiaoshixinxi/2019-03-26/178.html',\n",
       " '/shiziduiwu/jiaoshixinxi/2018-04-04/33.html',\n",
       " '/shiziduiwu/jiaoshixinxi/2018-04-12/77.html',\n",
       " '/shiziduiwu/jiaoshixinxi/2018-04-12/83.html',\n",
       " '/shiziduiwu/jiaoshixinxi/2018-04-13/98.html',\n",
       " '/shiziduiwu/jiaoshixinxi/2018-04-12/88.html',\n",
       " '/shiziduiwu/jiaoshixinxi/2018-04-12/81.html',\n",
       " '/shiziduiwu/jiaoshixinxi/2018-04-13/107.html',\n",
       " '/shiziduiwu/jiaoshixinxi/2019-03-18/177.html',\n",
       " '/shiziduiwu/jiaoshixinxi/2018-04-12/86.html',\n",
       " '/shiziduiwu/jiaoshixinxi/2018-04-13/95.html',\n",
       " '/shiziduiwu/jiaoshixinxi/2018-04-13/105.html',\n",
       " '/shiziduiwu/jiaoshixinxi/2018-04-17/145.html',\n",
       " '/shiziduiwu/jiaoshixinxi/2018-04-23/150.html',\n",
       " '/shiziduiwu/jiaoshixinxi/2018-04-12/84.html',\n",
       " '/shiziduiwu/jiaoshixinxi/2018-04-13/93.html',\n",
       " '/shiziduiwu/jiaoshixinxi/2018-04-12/87.html',\n",
       " '/shiziduiwu/jiaoshixinxi/2018-04-23/151.html',\n",
       " '/shiziduiwu/jiaoshixinxi/2018-04-13/94.html',\n",
       " '/shiziduiwu/jiaoshixinxi/2018-04-13/106.html',\n",
       " '/shiziduiwu/jiaoshixinxi/2018-04-12/79.html',\n",
       " '/shiziduiwu/jiaoshixinxi/2018-04-12/80.html',\n",
       " '/shiziduiwu/jiaoshixinxi/2018-04-13/102.html',\n",
       " '/shiziduiwu/jiaoshixinxi/2018-04-13/104.html',\n",
       " '/shiziduiwu/jiaoshixinxi/2018-04-13/96.html',\n",
       " '/shiziduiwu/jiaoshixinxi/2018-07-20/169.html',\n",
       " '/shiziduiwu/jiaoshixinxi/2018-04-12/78.html',\n",
       " '/shiziduiwu/jiaoshixinxi/2018-04-12/85.html',\n",
       " '/shiziduiwu/jiaoshixinxi/2018-04-14/115.html',\n",
       " '/shiziduiwu/jiaoshixinxi/2018-04-13/91.html',\n",
       " '/shiziduiwu/jiaoshixinxi/2018-04-13/100.html',\n",
       " '/shiziduiwu/jiaoshixinxi/2018-04-17/144.html',\n",
       " 'http://www.ustb.edu.cn',\n",
       " 'http://oa.ustb.edu.cn',\n",
       " 'http://mail.ustb.edu.cn/',\n",
       " 'http://fsp.ustb.edu.cn/app.LaborClient/',\n",
       " 'http://e.ustb.edu.cn/',\n",
       " 'http://teach.ustb.edu.cn/',\n",
       " 'http://zhaosheng.ustb.edu.cn',\n",
       " 'http://gs.ustb.edu.cn/',\n",
       " 'http://gs.ustb.edu.cn/',\n",
       " 'http://lwxxgl.ustb.xiaoetong.cn/login',\n",
       " 'http://rsc.ustb.edu.cn/',\n",
       " 'http://coreej.cceu.org.cn:3410/ej/ustb/ej.htm',\n",
       " 'http://lib.ustb.edu.cn/Article/ShowClass.asp?ClassID=2',\n",
       " 'http://cc.ustb.edu.cn/eol/homepage/common/',\n",
       " 'http://keyanchu.ustb.edu.cn/eventlist.asp',\n",
       " 'http://jsfz.ustb.edu.cn/developCenter/home',\n",
       " 'http://mooc.ustb.edu.cn/portal']"
      ]
     },
     "execution_count": 7,
     "metadata": {},
     "output_type": "execute_result"
    }
   ],
   "source": [
    "url_all"
   ]
  },
  {
   "cell_type": "code",
   "execution_count": 8,
   "metadata": {},
   "outputs": [
    {
     "data": {
      "text/plain": [
       "79"
      ]
     },
     "execution_count": 8,
     "metadata": {},
     "output_type": "execute_result"
    }
   ],
   "source": [
    "url_all.index('http://www.ustb.edu.cn')"
   ]
  },
  {
   "cell_type": "code",
   "execution_count": 10,
   "metadata": {},
   "outputs": [],
   "source": [
    "url_all = url_all[:79]"
   ]
  },
  {
   "cell_type": "code",
   "execution_count": 29,
   "metadata": {},
   "outputs": [
    {
     "data": {
      "text/plain": [
       "79"
      ]
     },
     "execution_count": 29,
     "metadata": {},
     "output_type": "execute_result"
    }
   ],
   "source": [
    "len(url_all)"
   ]
  },
  {
   "cell_type": "raw",
   "metadata": {},
   "source": [
    "http://scce.ustb.edu.cn/shiziduiwu/jiaoshixinxi/2018-04-09/35.html"
   ]
  },
  {
   "cell_type": "code",
   "execution_count": 40,
   "metadata": {},
   "outputs": [],
   "source": [
    "list_all_teacher = []\n",
    "for url in url_all:\n",
    "    teacher = 'http://scce.ustb.edu.cn'+url\n",
    "    page = requests.get(teacher)\n",
    "    page.encoding='utf-8'\n",
    "    te = BeautifulSoup(page.text)#做处理\n",
    "    message_of_teacher = te.find('div',{'class':'details_t_right'})\n",
    "    list_message = message_of_teacher.find_all_next('div',{'class':'duty_right'})\n",
    "    list_of_teacher = []\n",
    "    teachername = te.find('div',{'class':'details_t_left'})\n",
    "    list_of_teacher.append(teachername.find('div').text)\n",
    "    for i in list_message:\n",
    "        list_of_teacher.append(i.text)\n",
    "    list_all_teacher.append(list_of_teacher)"
   ]
  },
  {
   "cell_type": "code",
   "execution_count": 45,
   "metadata": {},
   "outputs": [],
   "source": [
    "message_of_ustb = pd.DataFrame(list_all_teacher,columns=['姓名','系所','职称','职务','办公地点','办公电话','电子邮箱','本科课程','研究生课程','科研方向','学术与社会兼职'])"
   ]
  },
  {
   "cell_type": "code",
   "execution_count": 46,
   "metadata": {},
   "outputs": [],
   "source": [
    "message_of_ustb.to_excel('C:\\\\Users\\\\NYDSJ\\\\Desktop\\\\北科大老师.xls')"
   ]
  },
  {
   "cell_type": "raw",
   "metadata": {},
   "source": [
    "urltry = url_all[0]\n",
    "teacher = 'http://scce.ustb.edu.cn'+urltry\n",
    "page = requests.get(teacher)\n",
    "page.encoding='utf-8'\n",
    "te = BeautifulSoup(page.text)#做处理"
   ]
  },
  {
   "cell_type": "raw",
   "metadata": {},
   "source": [
    "p = te.find('div',{'class':'details_t_left'})"
   ]
  },
  {
   "cell_type": "raw",
   "metadata": {},
   "source": [
    "p.find('div').text"
   ]
  },
  {
   "cell_type": "code",
   "execution_count": null,
   "metadata": {},
   "outputs": [],
   "source": []
  }
 ],
 "metadata": {
  "kernelspec": {
   "display_name": "Python 3",
   "language": "python",
   "name": "python3"
  },
  "language_info": {
   "codemirror_mode": {
    "name": "ipython",
    "version": 3
   },
   "file_extension": ".py",
   "mimetype": "text/x-python",
   "name": "python",
   "nbconvert_exporter": "python",
   "pygments_lexer": "ipython3",
   "version": "3.7.3"
  }
 },
 "nbformat": 4,
 "nbformat_minor": 2
}
