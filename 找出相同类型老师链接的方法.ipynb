{
 "cells": [
  {
   "cell_type": "code",
   "execution_count": 23,
   "metadata": {},
   "outputs": [],
   "source": [
    "def choose_teacher(l,s):\n",
    "    len_of_s = len(s)#计算字符串的长度\n",
    "    start = 0\n",
    "    for i in l:\n",
    "        if(i[:len_of_s]==s):\n",
    "            start = l.index(i)\n",
    "            break\n",
    "    end = len(l)\n",
    "    for j in l[start:]:\n",
    "        if(j[:len_of_s]!=s):\n",
    "            end = l.index(j)\n",
    "            break\n",
    "    return(start,end)"
   ]
  },
  {
   "cell_type": "code",
   "execution_count": 18,
   "metadata": {},
   "outputs": [],
   "source": [
    "url_all = ['/cms/staff/8239/?cat=12',\n",
    " '/cms/staff/754/?cat=12',\n",
    " '/cms/staff/8181/?cat=12',\n",
    " '/cms/staff/7327/?cat=12',\n",
    " '/cms/staff/6602/?cat=12',\n",
    " '/cms/staff/126/?cat=12',\n",
    " '/cms/staff/8516/?cat=12',\n",
    " '/cms/staff/730/?cat=12',\n",
    " '/cms/staff/9210/?cat=12',\n",
    " '/cms/staff/6153/?cat=12',\n",
    " '/cms/staff/1722/?cat=12',\n",
    " '/cms/staff/8026/?cat=12',\n",
    " '?kind=0&cat=12&page=1',\n",
    " '?kind=0&cat=12&page=2',\n",
    " '?kind=0&cat=12&page=3',\n",
    " '?kind=0&cat=12&page=4',\n",
    " '?kind=0&cat=12&page=5',\n",
    " '?kind=0&cat=12&page=2',\n",
    " '?kind=0&cat=12&page=16',\n",
    " '?kind=0&cat=12&page=1',\n",
    " 'http://ross.bjtu.edu.cn/',\n",
    " 'http://tdam-bjkl.bjtu.edu.cn/',\n",
    " 'http://infosec.bjtu.edu.cn',\n",
    " 'http://iis.bjtu.edu.cn',\n",
    " 'http://citlab.bjtu.edu.cn',\n",
    " 'http://jxjd.bjtu.edu.cn',\n",
    " 'http://insis.bjtu.edu.cn',\n",
    " 'http://icn.bjtu.edu.cn',\n",
    " 'index.action']"
   ]
  },
  {
   "cell_type": "code",
   "execution_count": 15,
   "metadata": {},
   "outputs": [
    {
     "data": {
      "text/plain": [
       "True"
      ]
     },
     "execution_count": 15,
     "metadata": {},
     "output_type": "execute_result"
    }
   ],
   "source": [
    "s = '/cms/staff/'\n",
    "'/cms/staff/8239/?cat=12'[:len(s)]==s"
   ]
  },
  {
   "cell_type": "code",
   "execution_count": 19,
   "metadata": {},
   "outputs": [
    {
     "data": {
      "text/plain": [
       "(0, 12)"
      ]
     },
     "execution_count": 19,
     "metadata": {},
     "output_type": "execute_result"
    }
   ],
   "source": [
    "choose_teacher(url_all,s)"
   ]
  },
  {
   "cell_type": "code",
   "execution_count": 21,
   "metadata": {},
   "outputs": [
    {
     "data": {
      "text/plain": [
       "['/cms/staff/8239/?cat=12',\n",
       " '/cms/staff/754/?cat=12',\n",
       " '/cms/staff/8181/?cat=12',\n",
       " '/cms/staff/7327/?cat=12',\n",
       " '/cms/staff/6602/?cat=12',\n",
       " '/cms/staff/126/?cat=12',\n",
       " '/cms/staff/8516/?cat=12',\n",
       " '/cms/staff/730/?cat=12',\n",
       " '/cms/staff/9210/?cat=12',\n",
       " '/cms/staff/6153/?cat=12',\n",
       " '/cms/staff/1722/?cat=12',\n",
       " '/cms/staff/8026/?cat=12']"
      ]
     },
     "execution_count": 21,
     "metadata": {},
     "output_type": "execute_result"
    }
   ],
   "source": [
    "url_all[0:12]"
   ]
  },
  {
   "cell_type": "code",
   "execution_count": null,
   "metadata": {},
   "outputs": [],
   "source": []
  }
 ],
 "metadata": {
  "kernelspec": {
   "display_name": "Python 3",
   "language": "python",
   "name": "python3"
  },
  "language_info": {
   "codemirror_mode": {
    "name": "ipython",
    "version": 3
   },
   "file_extension": ".py",
   "mimetype": "text/x-python",
   "name": "python",
   "nbconvert_exporter": "python",
   "pygments_lexer": "ipython3",
   "version": "3.7.3"
  }
 },
 "nbformat": 4,
 "nbformat_minor": 2
}
