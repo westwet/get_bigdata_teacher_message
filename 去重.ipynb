{
 "cells": [
  {
   "cell_type": "code",
   "execution_count": 4,
   "metadata": {},
   "outputs": [],
   "source": [
    "import pandas as pd\n",
    "#导入数据数据科学专家表\n",
    "professors_tb1 = pd.read_excel('C:\\\\Users\\\\user\\\\Desktop\\\\科学数据专家.xlsx')\n",
    "#导入已有数据科学专家表\n",
    "professors_tb2 = pd.read_excel('C:\\\\Users\\\\user\\\\Desktop\\\\已有数据科学专家.xls')\n",
    "#姓名和单位相同的判定为同一专家\n",
    "ad = pd.merge(professors_tb1,professors_tb2,on=('姓名','单位'))\n",
    "#将重复的删除并生成新表，表中为原先没有的数据专家。\n",
    "professors_tb1[professors_tb1.index.isin(ad.index)==False].to_excel('C:\\\\Users\\\\user\\\\Desktop\\\\数据家.xls',index=False)"
   ]
  }
 ],
 "metadata": {
  "kernelspec": {
   "display_name": "Python 3",
   "language": "python",
   "name": "python3"
  },
  "language_info": {
   "codemirror_mode": {
    "name": "ipython",
    "version": 3
   },
   "file_extension": ".py",
   "mimetype": "text/x-python",
   "name": "python",
   "nbconvert_exporter": "python",
   "pygments_lexer": "ipython3",
   "version": "3.7.3"
  }
 },
 "nbformat": 4,
 "nbformat_minor": 2
}
