{
 "cells": [
  {
   "cell_type": "code",
   "execution_count": 6,
   "metadata": {},
   "outputs": [],
   "source": [
    "import bs4\n",
    "import pandas as pd\n",
    "from bs4 import BeautifulSoup\n",
    "import requests"
   ]
  },
  {
   "cell_type": "code",
   "execution_count": 8,
   "metadata": {},
   "outputs": [],
   "source": [
    "page = requests.get('http://cs.hit.edu.cn/11447/list1.htm')\n",
    "page.encoding = 'utf-8'\n",
    "te = BeautifulSoup(page.text)"
   ]
  },
  {
   "cell_type": "code",
   "execution_count": 10,
   "metadata": {},
   "outputs": [],
   "source": [
    "l = [i.get('href') for i in te.find_all('a',{'href':True})]"
   ]
  },
  {
   "cell_type": "code",
   "execution_count": 11,
   "metadata": {},
   "outputs": [
    {
     "data": {
      "text/plain": [
       "['http://encs.hit.edu.cn/',\n",
       " 'http://www.cs.hit.edu.cn/main.htm',\n",
       " '/11260/list.htm',\n",
       " '/11440/list.htm',\n",
       " '/11441/list.htm',\n",
       " '/11442/list.htm',\n",
       " '/11443/list.htm',\n",
       " '/11444/list.htm',\n",
       " '/11445/list.htm',\n",
       " '/11261/list.htm',\n",
       " '/11446/list.htm',\n",
       " '/11447/list.htm',\n",
       " '/11449/list.htm',\n",
       " '/11450/list.htm',\n",
       " '/11451/list.htm',\n",
       " '/11262/list.htm',\n",
       " '/11453/list.htm',\n",
       " '/11455/list.htm',\n",
       " '/11456/list.htm',\n",
       " '/jxcgjsb/list.htm',\n",
       " '/11263/list.htm',\n",
       " '/11457/list.htm',\n",
       " '/11458/list.htm',\n",
       " '/11459/list.htm',\n",
       " '/11460/list.htm',\n",
       " '/11461/list.htm',\n",
       " '/11264/list.htm',\n",
       " '/11462/list.htm',\n",
       " '/xlzx/list.htm',\n",
       " '/dyzzgx/list.htm',\n",
       " '/11265/list.htm',\n",
       " '/11472/list.htm',\n",
       " '/11474/list.htm',\n",
       " '/11473/list.htm',\n",
       " '/11266/list.htm',\n",
       " '/11478/list.htm',\n",
       " '/11479/list.htm',\n",
       " '/11267/list.htm',\n",
       " '/11480/list.htm',\n",
       " '/11481/list.htm',\n",
       " '/11482/list.htm',\n",
       " '/11483/list.htm',\n",
       " '/11268/list.htm',\n",
       " '/11487/list.htm',\n",
       " '/11488/list.htm',\n",
       " '/11269/list.htm',\n",
       " '/11446/list.htm',\n",
       " '/11447/list.htm',\n",
       " '/11449/list.htm',\n",
       " '/11450/list.htm',\n",
       " '/11451/list.htm',\n",
       " '/main.htm',\n",
       " '/11261/list.htm',\n",
       " '/11447/list.htm',\n",
       " 'http://homepage.hit.edu.cn/zou',\n",
       " 'http://homepage.hit.edu.cn/wangmengzuo',\n",
       " 'http://homepage.hit.edu.cn/wzzhang',\n",
       " 'http://homepage.hit.edu.cn/zhouming',\n",
       " 'http://homepage.hit.edu.cn/zhangtianwen',\n",
       " 'http://homepage.hit.edu.cn/davidzhang',\n",
       " 'http://homepage.hit.edu.cn/zangtianyi',\n",
       " 'http://homepage.hit.edu.cn/zhaodebin',\n",
       " 'http://homepage.hit.edu.cn/zhaotiejun',\n",
       " 'http://homepage.hit.edu.cn/zuodecheng',\n",
       " 'http://homepage.hit.edu.cn/zhanghongli',\n",
       " 'http://homepage.hit.edu.cn/zhandechen',\n",
       " 'http://homepage.hit.edu.cn/hengguizhang',\n",
       " 'http://homepage.hit.edu.cn/yaohongxun',\n",
       " 'javascript:void(0);',\n",
       " 'javascript:void(0);',\n",
       " '/11447/list2.htm',\n",
       " '/11447/list5.htm',\n",
       " 'javascript:void(0);']"
      ]
     },
     "execution_count": 11,
     "metadata": {},
     "output_type": "execute_result"
    }
   ],
   "source": [
    "l"
   ]
  },
  {
   "cell_type": "code",
   "execution_count": 12,
   "metadata": {},
   "outputs": [],
   "source": [
    "def choose_teacher(l,s):\n",
    "    len_of_s = len(s)#计算字符串的长度\n",
    "    start = 0\n",
    "    for i in l:\n",
    "        if(i[:len_of_s]==s):\n",
    "            start = l.index(i)\n",
    "            break\n",
    "    end = len(l)\n",
    "    for j in l[start:]:\n",
    "        if(j[:len_of_s]!=s):\n",
    "            end = l.index(j,start)\n",
    "            break\n",
    "    return(start,end)"
   ]
  },
  {
   "cell_type": "code",
   "execution_count": 14,
   "metadata": {},
   "outputs": [],
   "source": [
    "teacherurl_of_1 = l[choose_teacher(l,'http://homepage')[0]:choose_teacher(l,'http://homepage')[1]]"
   ]
  },
  {
   "cell_type": "code",
   "execution_count": 18,
   "metadata": {},
   "outputs": [],
   "source": [
    "page = requests.get(teacherurl_of_1[0])\n",
    "page.encoding = 'utf-8'\n",
    "te = BeautifulSoup(page.text)"
   ]
  },
  {
   "cell_type": "code",
   "execution_count": 23,
   "metadata": {},
   "outputs": [
    {
     "data": {
      "text/plain": [
       "'邹兆年'"
      ]
     },
     "execution_count": 23,
     "metadata": {},
     "output_type": "execute_result"
    }
   ],
   "source": [
    "te.find('div',{'class':'part2 part'}).find('h3').text"
   ]
  },
  {
   "cell_type": "code",
   "execution_count": 24,
   "metadata": {},
   "outputs": [
    {
     "data": {
      "text/plain": [
       "'  副教授 博士生导师   '"
      ]
     },
     "execution_count": 24,
     "metadata": {},
     "output_type": "execute_result"
    }
   ],
   "source": [
    "te.find('div',{'class':'part3 part'}).text"
   ]
  },
  {
   "cell_type": "code",
   "execution_count": 29,
   "metadata": {},
   "outputs": [],
   "source": [
    "l = [i.text for i in te.find('div',{'class':'cont'}).find_all('li')]"
   ]
  },
  {
   "cell_type": "code",
   "execution_count": 36,
   "metadata": {},
   "outputs": [],
   "source": [
    "email = filter(lambda x:x.find('邮箱')!=-1,l)"
   ]
  },
  {
   "cell_type": "code",
   "execution_count": 38,
   "metadata": {},
   "outputs": [
    {
     "data": {
      "text/plain": [
       "[' 邮箱 znzou@hit.edu.cn ']"
      ]
     },
     "execution_count": 38,
     "metadata": {},
     "output_type": "execute_result"
    }
   ],
   "source": [
    "list(email)"
   ]
  },
  {
   "cell_type": "code",
   "execution_count": 48,
   "metadata": {},
   "outputs": [],
   "source": [
    "te.find('div',{'class':'lv1','id':'lv1-5ffb8040-964a-4d3a-96d7-ce343921f1b7'})"
   ]
  },
  {
   "cell_type": "code",
   "execution_count": 49,
   "metadata": {},
   "outputs": [],
   "source": [
    "page = requests.get(teacherurl_of_1[0])"
   ]
  },
  {
   "cell_type": "code",
   "execution_count": 51,
   "metadata": {},
   "outputs": [],
   "source": [
    "page.encoding = 'utf-8'"
   ]
  },
  {
   "cell_type": "code",
   "execution_count": 52,
   "metadata": {},
   "outputs": [],
   "source": [
    "te = BeautifulSoup(page.text)"
   ]
  },
  {
   "cell_type": "code",
   "execution_count": 53,
   "metadata": {},
   "outputs": [
    {
     "data": {
      "text/plain": [
       "<!DOCTYPE html>\n",
       "<html><head> <meta charset=\"utf-8\"/> <meta content=\"text/html;charset=utf-8\" http-equiv=\"content-type\"/> <meta content=\"IE=edge, chrome=1\" http-equiv=\"X-UA-Compatible\"/> <meta content=\"webkit\" name=\"renderer\"/> <meta content=\"width=device-width, initial-scale=1, maximum-scale=1, minimum-scale=1, user-scalable=no\" name=\"viewport\"/> <meta content=\"telephone=no\" name=\"format-detection\"/> <meta content=\"哈尔滨工业大学教师个人主页, 邹兆年, 哈工大计算机学院教师\" name=\"keywords\"/> <meta content=\"哈尔滨工业大学教师个人主页, 邹兆年, 哈工大计算机学院教师, 计算机科学与技术学院/国家示范性软件学院, 计算机科学与技术, \" name=\"description\"/> <title>邹兆年 - 哈尔滨工业大学教师个人主页</title> <!-- <link href=\"https://cdn.bootcss.com/bootstrap/3.3.7/css/bootstrap.min.css\" rel=\"stylesheet\"> --> <link href=\"inside-network/bootstrap.min.css\" rel=\"stylesheet\" type=\"text/css\"/> <link href=\"style/jquery.guide.css\" rel=\"stylesheet\" type=\"text/css\"/> <link href=\"inside-network/sweetalert.min.css\" rel=\"stylesheet\" type=\"text/css\"/> <link href=\"inside-network/cropper.css\" rel=\"stylesheet\" type=\"text/css\"/> <link href=\"style/homepage/header-footer.css\" rel=\"stylesheet\" type=\"text/css\"/> <link href=\"style/home-teacher-show.css\" rel=\"stylesheet\" type=\"text/css\"/> <link href=\"style/style.css\" rel=\"stylesheet\" type=\"text/css\"/> <style>        .header .row1{        background-color: #577a95 !important;        }        .theme-fcolor {        color: #577a95;        }        .theme-bcolor {        color: #2f4352;        }        ul#myTab{        background-color: #577a95 !important;        }        .bg-primary{        background-color: #2f4352;        }        ul#myTab li a{        border-right: 1px solid #577a95;        border-top: 2px solid #577a95;        border-bottom: 1px solid #577a95;        }        ul#myTab li{        background-color: #577a95;        border-bottom: 1px solid #577a95;        }        .footer .f1{        background-color:#577a95;        }        .footer .f2{        background-color: #2f4352 !important;        }        .d-two span, .cur .teac, .part2 em, .m-per .part4 li em,        .m-per .part4 li .link,.m-per .part4 li .copy,  .m-con .ul-cont em,        ul#myTab li.active a{        color: #2f4352 !important;        }        .m-con .tit-g{        border-bottom: 2px solid #2f4352 !important;        }        .m-per .part3 em, .m-con .tit-g h3, .suspendbox .name, #myTabContent .lv1 .lv1-header, .eng{            color: #474747 !important;        }        .d-two .d2 span{            color: #f6a041 !important;        }        .srch1{            background-color: #e1e1e1 !important;        }        .srch1 .two-input .input2,.srch5 .start{        background-color: #2f4352 !important;        }        .srch1 .number .txt em{        color: #577a95 !important;        }        .gundong-btn{            width:5%;            padding: 13px 0px 18px;        background:#2f4352;        border-top:2px solid #577a95;        border-bottom:2px solid #577a95;        font-size:16px;        cursor:pointer;color:#ffffff;        }        .gundong-btn:hover{        background:#577a95;        }        .gundong-btn:active{        background:#2f4352;        }        div.user-left-title > div.row{        background-color: #577a95;        height:60px;        }    </style></head><body><!-- 顶部是读取其它html页面出来的，别乱动 --><div class=\"header\"> <div class=\"row1\"></div> <div class=\"row2\"> <div class=\"wp\"> <ul class=\"ul-info\"> <li> <div class=\"cur\"> <span> <i></i> <a class=\"home\" href=\"home-index\">首页</a> </span> <em>   /  </em> <span> <a class=\"teac\" href=\"\">邹兆年 </a><em>的个人主页</em> </span> </div> </li> <li class=\"d-two\"> <div class=\"d1 d\"> <em>更新</em> <span id=\"tModifyDate\"></span> </div> <div class=\"d2 d\"> <em>人气</em> <span id=\"visitNo\"></span> </div> </li> <li> <div class=\"so\"> <i class=\"i1\"></i> <a class=\"js-moreso\" href=\"javascript:void(0);\">更多教师检索</a> <i class=\"i2\"></i> </div> </li> <li style=\"display: none;\"> <div class=\"share\"> <i></i> <a href=\"\">分享</a> </div> </li> </ul> </div> </div></div><!-- 搜索区 --><div class=\"m-srch\" id=\"sSearchPart\"></div><!-- 内容区 --><div class=\"home-teacher container-fluid\" style=\"min-height: calc(100% - 160px); background: url('/file/showImg.do?newName=8891299956935.jpg&amp;relativePath=2018-03-06&amp;descDir=newsUpload') 0% 0% / 100% no-repeat;\"> <div class=\"banner\"> <div class=\"item\"> <img alt=\"\" src=\"/file/showImg.do?newName=8904156280723.jpg&amp;relativePath=2018-03-06&amp;descDir=fnewsUpload\"/> </div> </div> <!-- 个人信息 --> <div class=\"m-per\" id=\"teacher_info\"> <div class=\"wp\"> <div class=\"part1 part\"> <div class=\"pic user-img\"> <img class=\"img-thumbnail\" data-src=\"file/showHP.do?d=1249&amp;&amp;w=200&amp;&amp;h=204\" src=\"images/defult-login-img.jpg\"/> </div> </div> <div class=\"part2 part\"> <em class=\"user-country\">中国</em> <h3 class=\"tit chineseName\">邹兆年</h3> <span class=\"user-describe\">哈工大计算机学院教师</span> </div> <div class=\"part3 part\"> <div class=\"tips\"> <em class=\"user-post\">副教授</em> <div id=\"teacher-honor\" style=\"display: none;\">博士生导师</div> <!--<em class=\"user-honor\" data-honor=\"\"></em>--> </div> </div> <div class=\"part4 part\"> <ul> <li> <em>目前就职</em> <span class=\"user-position\">计算机科学与技术学院/国家示范性软件学院</span> <a class=\"link\" href=\"school-dept?id=1&amp;browseName=校内单位&amp;browseEnName=UNIT&amp;deptName=000013\"> <span class=\"glyphicon glyphicon-link\"></span> </a> </li> <li> <em>学科</em> <span class=\"user-discipline\">计算机科学与技术</span> </li> <li> <em>研究方向</em> <span class=\"user-label\"></span> </li> <li> <em>主页地址</em> <a class=\"web\" href=\"/zou\"><span class=\"user-url\">http://homepage.hit.edu.cn/zou</span></a> <span class=\"glyphicon glyphicon-copy\"></span> <a class=\"copy btnCopy\" href=\"javascript:void(0);\">复制地址</a> </li> </ul> </div> </div> </div> <div class=\"m-con\"> <div class=\"wp\"> <!-- 左侧信息 --> <div class=\"col-l teacher-body\" data-tid=\"1249\"> </div> <!-- 右侧信息 --> <div class=\"col-r\"> <!-- 联系方式 --> <div class=\"cont\"> <div class=\"tit-g\"> <h3>联系方式</h3> </div> <ul class=\"ul-cont\"> <li> <em><span class=\"glyphicon glyphicon-phone-alt\"></span>电话</em> <p>0451-86415827</p> </li> <li> <em><span class=\"glyphicon glyphicon-print\"></span>传真</em> <p>0451-86415827</p> </li> <li> <em><span class=\"glyphicon glyphicon-envelope\"></span>邮箱</em> <p>znzou@hit.edu.cn</p> </li> <li class=\"addr\"> <em><span class=\"glyphicon glyphicon-home\"></span>地址</em> <div class=\"txt\"> <p>黑龙江省哈尔滨市南岗区西大直街92号哈尔滨工业大学综合楼810室</p> </div> </li> </ul> <div class=\"tit-g\" id=\"shnt01\"> <h3>学术网络</h3> </div> <ul class=\"ul-ico\" id=\"shnt02\"> </ul> </div> <!-- 相关教师 --> <div class=\"ateac\"> <div class=\"tit-g\"> <a class=\"re\" href=\"javascript:void(0);\" onclick=\"queryAllForUserByPage()\">换一换</a> <h3>相关教师</h3> </div> <!--学院--> <div class=\"change-list-dept\"></div> <div class=\"col-xs-12 home-title\" id=\"change-dept\"></div> <!--学科--> <div class=\"change-list-subject\"></div> <div class=\"col-xs-12 home-title\" id=\"change-subject\"></div> <!--研究方向--> <div class=\"change-list-label\"></div> <div class=\"col-xs-12 home-title\" id=\"change-label\"></div> </div> <!-- 二维码 --> <div class=\"qr\"> <div class=\"pic\" id=\"qr\"></div> <div class=\"txt\"> <p>手机扫描二维码</p> <p>即可访问本教师主页</p> </div> </div> </div> </div> </div></div><div class=\"footer\"></div><script charset=\"utf-8\" src=\"inside-network/jquery.min.js\" type=\"text/javascript\"></script><script charset=\"utf-8\" src=\"inside-network/bootstrap.min.js\" type=\"text/javascript\"></script><script charset=\"utf-8\" src=\"scripts/jquery-qrcode-0.14.0.min.js\" type=\"text/javascript\"></script><script charset=\"utf-8\" src=\"scripts/global.js\" type=\"text/javascript\"></script><script charset=\"utf-8\" src=\"scripts/cropper.js\" type=\"text/javascript\"></script><script charset=\"utf-8\" src=\"scripts/lib.js\" type=\"text/javascript\"></script><script charset=\"utf-8\" src=\"scripts/homepage/header-footer.js\" type=\"text/javascript\"></script><script charset=\"utf-8\" src=\"scripts/homepage/home-teacher-show.js\" type=\"text/javascript\"></script><script charset=\"utf-8\" src=\"scripts/base.js\" type=\"text/javascript\"></script><script charset=\"utf-8\" src=\"scripts/clipboard.min.js\" type=\"text/javascript\"></script><script charset=\"utf-8\" src=\"scripts/utils/htmlUtils.js\" type=\"text/javascript\"></script><script charset=\"utf-8\" type=\"text/javascript\">    var clipboard = new ClipboardJS('.btnCopy', {        text: function () {            return 'http://homepage.hit.edu.cn/zou';        }    });    clipboard.on('success', function (e) {        alert('复制成功');    });    clipboard.on('error', function (e) {        alert('复制失败');    });</script></body></html>"
      ]
     },
     "execution_count": 53,
     "metadata": {},
     "output_type": "execute_result"
    }
   ],
   "source": [
    "te.find()"
   ]
  },
  {
   "cell_type": "code",
   "execution_count": null,
   "metadata": {},
   "outputs": [],
   "source": []
  }
 ],
 "metadata": {
  "kernelspec": {
   "display_name": "Python 3",
   "language": "python",
   "name": "python3"
  },
  "language_info": {
   "codemirror_mode": {
    "name": "ipython",
    "version": 3
   },
   "file_extension": ".py",
   "mimetype": "text/x-python",
   "name": "python",
   "nbconvert_exporter": "python",
   "pygments_lexer": "ipython3",
   "version": "3.7.3"
  }
 },
 "nbformat": 4,
 "nbformat_minor": 2
}
