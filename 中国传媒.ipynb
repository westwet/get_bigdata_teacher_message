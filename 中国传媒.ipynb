{
 "cells": [
  {
   "cell_type": "code",
   "execution_count": 1,
   "metadata": {},
   "outputs": [],
   "source": [
    "from selenium import webdriver\n",
    "import time\n",
    "import bs4\n",
    "import pandas as pd\n",
    "from bs4 import BeautifulSoup\n",
    "import requests\n",
    "soup = requests.get('http://dsmi.cuc.edu.cn/4580/list.htm')\n",
    "soup.encoding = 'utf-8'\n",
    "te = BeautifulSoup(soup.text)"
   ]
  },
  {
   "cell_type": "code",
   "execution_count": 7,
   "metadata": {},
   "outputs": [],
   "source": [
    "def choose_teacher(l,s):\n",
    "    len_of_s = len(s)#计算字符串的长度\n",
    "    start = 0\n",
    "    for i in l:\n",
    "        if(i[:len_of_s]==s):\n",
    "            start = l.index(i)\n",
    "            break\n",
    "    end = len(l)\n",
    "    for j in l[start:]:\n",
    "        if(j[:len_of_s]!=s):\n",
    "            end = l.index(j)\n",
    "            break\n",
    "    return(start,end)"
   ]
  },
  {
   "cell_type": "code",
   "execution_count": 5,
   "metadata": {},
   "outputs": [],
   "source": [
    "l = te.find_all('a',{'href':True})"
   ]
  },
  {
   "cell_type": "code",
   "execution_count": 8,
   "metadata": {},
   "outputs": [],
   "source": [
    "l_u = [i.get('href') for i in l]"
   ]
  },
  {
   "cell_type": "raw",
   "metadata": {},
   "source": [
    "http://dsmi.cuc.edu.cn/2019/0425/c4580a123105/page.htm"
   ]
  },
  {
   "cell_type": "code",
   "execution_count": 10,
   "metadata": {},
   "outputs": [
    {
     "data": {
      "text/plain": [
       "(60, 86)"
      ]
     },
     "execution_count": 10,
     "metadata": {},
     "output_type": "execute_result"
    }
   ],
   "source": [
    "choose_teacher(l_u,'/2019/')"
   ]
  },
  {
   "cell_type": "code",
   "execution_count": 13,
   "metadata": {},
   "outputs": [],
   "source": [
    "url_all = l_u[60:86]"
   ]
  },
  {
   "cell_type": "code",
   "execution_count": 14,
   "metadata": {},
   "outputs": [],
   "source": [
    "page = requests.get('http://dsmi.cuc.edu.cn/2019/0425/c4580a123105/page.htm')"
   ]
  },
  {
   "cell_type": "code",
   "execution_count": 15,
   "metadata": {},
   "outputs": [],
   "source": [
    "page.encoding = 'utf-8'"
   ]
  },
  {
   "cell_type": "code",
   "execution_count": 16,
   "metadata": {},
   "outputs": [],
   "source": [
    "te = BeautifulSoup(page.text)"
   ]
  },
  {
   "cell_type": "code",
   "execution_count": 26,
   "metadata": {},
   "outputs": [],
   "source": [
    "expect = te.find_all('p',{'class':'MsoNormal'})[14]"
   ]
  },
  {
   "cell_type": "code",
   "execution_count": 27,
   "metadata": {},
   "outputs": [],
   "source": [
    "message = te.find_all('p',{'class':'MsoNormal'})[0:4]"
   ]
  },
  {
   "cell_type": "code",
   "execution_count": 42,
   "metadata": {},
   "outputs": [],
   "source": [
    "l = [i.text for i in message]"
   ]
  },
  {
   "cell_type": "code",
   "execution_count": 43,
   "metadata": {},
   "outputs": [],
   "source": [
    "l.append(expect.text)"
   ]
  },
  {
   "cell_type": "code",
   "execution_count": 44,
   "metadata": {},
   "outputs": [
    {
     "data": {
      "text/plain": [
       "['姓名：李军',\n",
       " '职称：教授',\n",
       " '电话：010-65783583',\n",
       " '邮箱：lijun_cuc@outlook.com',\n",
       " '不确定性的数学理论； 非经典概率与非线性积分理论；运筹学与最优化理论；模糊神经网络；决策模型与人工智能。']"
      ]
     },
     "execution_count": 44,
     "metadata": {},
     "output_type": "execute_result"
    }
   ],
   "source": [
    "l"
   ]
  },
  {
   "cell_type": "code",
   "execution_count": 46,
   "metadata": {},
   "outputs": [],
   "source": [
    "teacher_all = []\n",
    "for url_teacher in url_all:\n",
    "    page = requests.get('http://dsmi.cuc.edu.cn'+url_teacher)\n",
    "    page.encoding = 'utf-8'\n",
    "    te = BeautifulSoup(page.text)\n",
    "    message = te.find_all('p',{'class':'MsoNormal'})[0:4]\n",
    "    teacher = [i.text for i in message]\n",
    "    teacher_all.append(teacher)"
   ]
  },
  {
   "cell_type": "code",
   "execution_count": 48,
   "metadata": {},
   "outputs": [],
   "source": [
    "pd.DataFrame(teacher_all).to_excel('C:\\\\Users\\\\NYDSJ\\\\Desktop\\\\中传老师数据科学与智能媒体学院.xls')"
   ]
  },
  {
   "cell_type": "code",
   "execution_count": null,
   "metadata": {},
   "outputs": [],
   "source": []
  }
 ],
 "metadata": {
  "kernelspec": {
   "display_name": "Python 3",
   "language": "python",
   "name": "python3"
  },
  "language_info": {
   "codemirror_mode": {
    "name": "ipython",
    "version": 3
   },
   "file_extension": ".py",
   "mimetype": "text/x-python",
   "name": "python",
   "nbconvert_exporter": "python",
   "pygments_lexer": "ipython3",
   "version": "3.7.3"
  }
 },
 "nbformat": 4,
 "nbformat_minor": 2
}
