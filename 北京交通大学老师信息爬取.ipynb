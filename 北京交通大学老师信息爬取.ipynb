{
 "cells": [
  {
   "cell_type": "code",
   "execution_count": 136,
   "metadata": {},
   "outputs": [],
   "source": [
    "from selenium import webdriver\n",
    "import time\n",
    "import bs4\n",
    "import pandas as pd\n",
    "from bs4 import BeautifulSoup\n",
    "import requests\n",
    "driver = webdriver.Firefox(executable_path = 'C:\\Program Files\\Mozilla Firefox\\geckodriver')\n",
    "driver.get(\"http://scit.bjtu.edu.cn/cms/staff/?kind=0&cat=12&page=1\")\n",
    "soup = BeautifulSoup(driver.page_source,'lxml')"
   ]
  },
  {
   "cell_type": "code",
   "execution_count": 139,
   "metadata": {},
   "outputs": [],
   "source": [
    "#找到列表中字符串开始为固定值的都是哪些\n",
    "def choose_teacher(l,s):\n",
    "    len_of_s = len(s)#计算字符串的长度\n",
    "    start = 0\n",
    "    for i in l:\n",
    "        if(i[:len_of_s]==s):\n",
    "            start = l.index(i)\n",
    "            break\n",
    "    end = len(l)\n",
    "    for j in l[start:]:\n",
    "        if(j[:len_of_s]!=s):\n",
    "            end = l.index(j)\n",
    "            break\n",
    "    return(start,end)"
   ]
  },
  {
   "cell_type": "code",
   "execution_count": 145,
   "metadata": {},
   "outputs": [],
   "source": [
    "teacher_all_message = []\n",
    "for i in range(16):\n",
    "    i = i+1\n",
    "    driver = webdriver.Firefox(executable_path = 'C:\\Program Files\\Mozilla Firefox\\geckodriver')\n",
    "    driver.get(\"http://scit.bjtu.edu.cn/cms/staff/?kind=0&cat=12&page=\"+str(i))\n",
    "    soup = BeautifulSoup(driver.page_source,'lxml')\n",
    "    a_labels = soup.find_all('a',attrs = {'href':True})#找到链接的位置在哪\n",
    "    l = []\n",
    "    for i in a_labels:\n",
    "        l.append(str(i))\n",
    "    url_all = []\n",
    "    for a in a_labels:\n",
    "        url_all.append(a.get('href'))#把网页都选出来\n",
    "    start_and_end = choose_teacher(url_all,'/cms/staff/')\n",
    "    url_all = url_all[start_and_end[0]:start_and_end[1]]\n",
    "    for teacher_url in url_all:\n",
    "        page = requests.get('http://scit.bjtu.edu.cn'+teacher_url)\n",
    "        page.encoding = 'utf-8'\n",
    "        te = BeautifulSoup(page.text)\n",
    "        name = te.find('div',{'class':'page-header'})#找出教授的名字\n",
    "        message = te.find('div',{'class':'col-md-10'}).find('div',{'class':'col-md-10'}).find_all('p')#找教授的各个信息\n",
    "        l = []\n",
    "        l.append(name.text)\n",
    "        for i in message:\n",
    "            l.append(i.text)\n",
    "        director = te.find('div',{'class':'alert alert-success'}).find_next_sibling().text#找出科研方向\n",
    "        l.append(director)\n",
    "        teacher_all_message.append(l)"
   ]
  },
  {
   "cell_type": "code",
   "execution_count": 149,
   "metadata": {},
   "outputs": [],
   "source": [
    "pd.DataFrame(teacher_all_message).to_excel('C:\\\\Users\\\\NYDSJ\\\\Desktop\\\\北交大老师.xls')"
   ]
  },
  {
   "cell_type": "raw",
   "metadata": {},
   "source": [
    "http://scit.bjtu.edu.cn/cms/staff/8239/?cat=12"
   ]
  },
  {
   "cell_type": "code",
   "execution_count": 133,
   "metadata": {},
   "outputs": [],
   "source": [
    "teacher_all_message = []\n",
    "for teacher_url in url_all:\n",
    "    page = requests.get('http://scit.bjtu.edu.cn'+teacher_url)\n",
    "    page.encoding = 'utf-8'\n",
    "    te = BeautifulSoup(page.text)\n",
    "    name = te.find('div',{'class':'page-header'})#找出教授的名字\n",
    "    message = te.find('div',{'class':'col-md-10'}).find('div',{'class':'col-md-10'}).find_all('p')#找教授的各个信息\n",
    "    l = []\n",
    "    l.append(name.text)\n",
    "    for i in message:\n",
    "        l.append(i.text)\n",
    "    director = te.find('div',{'class':'alert alert-success'}).find_next_sibling().text#找出科研方向\n",
    "    l.append(director)\n",
    "    teacher_all_message.append(l)"
   ]
  },
  {
   "cell_type": "code",
   "execution_count": 147,
   "metadata": {},
   "outputs": [
    {
     "data": {
      "text/plain": [
       "189"
      ]
     },
     "execution_count": 147,
     "metadata": {},
     "output_type": "execute_result"
    }
   ],
   "source": [
    "len(teacher_all_message)"
   ]
  },
  {
   "cell_type": "code",
   "execution_count": null,
   "metadata": {},
   "outputs": [],
   "source": []
  }
 ],
 "metadata": {
  "kernelspec": {
   "display_name": "Python 3",
   "language": "python",
   "name": "python3"
  },
  "language_info": {
   "codemirror_mode": {
    "name": "ipython",
    "version": 3
   },
   "file_extension": ".py",
   "mimetype": "text/x-python",
   "name": "python",
   "nbconvert_exporter": "python",
   "pygments_lexer": "ipython3",
   "version": "3.7.3"
  }
 },
 "nbformat": 4,
 "nbformat_minor": 2
}
