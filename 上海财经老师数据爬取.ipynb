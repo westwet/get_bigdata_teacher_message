{
 "cells": [
  {
   "cell_type": "code",
   "execution_count": 1,
   "metadata": {},
   "outputs": [],
   "source": [
    "from selenium import webdriver\n",
    "import time\n",
    "import bs4\n",
    "import pandas as pd\n",
    "from bs4 import BeautifulSoup\n",
    "import requests\n",
    "soup = requests.get('http://sime.shufe.edu.cn/node/view/271?page=2')\n",
    "soup.encoding = 'utf-8'\n",
    "te = BeautifulSoup(soup.text)"
   ]
  },
  {
   "cell_type": "code",
   "execution_count": 3,
   "metadata": {},
   "outputs": [],
   "source": [
    "a_labels = te.find_all('a',{'class':'black-text'})"
   ]
  },
  {
   "cell_type": "code",
   "execution_count": 4,
   "metadata": {},
   "outputs": [
    {
     "data": {
      "text/plain": [
       "[<a class=\"black-text\" href=\"/teacher/show/48\">邵志芳</a>,\n",
       " <a class=\"black-text\" href=\"/teacher/show/78\">史钞</a>,\n",
       " <a class=\"black-text\" href=\"/teacher/show/72\">杨超林</a>,\n",
       " <a class=\"black-text\" href=\"/teacher/show/7\">于长锐</a>,\n",
       " <a class=\"black-text\" href=\"/teacher/show/57\">袁洪松</a>,\n",
       " <a class=\"black-text\" href=\"/teacher/show/229\">岳劲峰</a>,\n",
       " <a class=\"black-text\" href=\"/teacher/show/51\">张娥</a>,\n",
       " <a class=\"black-text\" href=\"/teacher/show/219\">张耀武</a>]"
      ]
     },
     "execution_count": 4,
     "metadata": {},
     "output_type": "execute_result"
    }
   ],
   "source": [
    "a_labels"
   ]
  },
  {
   "cell_type": "code",
   "execution_count": 5,
   "metadata": {},
   "outputs": [],
   "source": [
    "url_all = []\n",
    "for i in a_labels:\n",
    "    url_all.append(i.get('href'))"
   ]
  },
  {
   "cell_type": "code",
   "execution_count": 6,
   "metadata": {},
   "outputs": [
    {
     "data": {
      "text/plain": [
       "['/teacher/show/48',\n",
       " '/teacher/show/78',\n",
       " '/teacher/show/72',\n",
       " '/teacher/show/7',\n",
       " '/teacher/show/57',\n",
       " '/teacher/show/229',\n",
       " '/teacher/show/51',\n",
       " '/teacher/show/219']"
      ]
     },
     "execution_count": 6,
     "metadata": {},
     "output_type": "execute_result"
    }
   ],
   "source": [
    "url_all"
   ]
  },
  {
   "cell_type": "raw",
   "metadata": {},
   "source": [
    "http://sime.shufe.edu.cn/teacher/show/74"
   ]
  },
  {
   "cell_type": "code",
   "execution_count": 22,
   "metadata": {},
   "outputs": [],
   "source": [
    "url1 = url_all[0]"
   ]
  },
  {
   "cell_type": "code",
   "execution_count": 24,
   "metadata": {},
   "outputs": [],
   "source": [
    "page = requests.get('http://sime.shufe.edu.cn'+url1)\n",
    "page.encoding = 'utf-8'\n",
    "te = BeautifulSoup(page.text)"
   ]
  },
  {
   "cell_type": "code",
   "execution_count": 27,
   "metadata": {},
   "outputs": [],
   "source": [
    "l = te.find('div',{'class':'col s7'}).find_all('td')"
   ]
  },
  {
   "cell_type": "code",
   "execution_count": 29,
   "metadata": {},
   "outputs": [],
   "source": [
    "l1 = [i.text for i in l]"
   ]
  },
  {
   "cell_type": "code",
   "execution_count": 32,
   "metadata": {},
   "outputs": [],
   "source": [
    "l1 = l1[1::2]"
   ]
  },
  {
   "cell_type": "code",
   "execution_count": 33,
   "metadata": {},
   "outputs": [
    {
     "data": {
      "text/plain": [
       "['方慧',\n",
       " '博士',\n",
       " '助理教授/讲师',\n",
       " '',\n",
       " '博导',\n",
       " '525',\n",
       " '65901454',\n",
       " 'fang.huiATmail.shufe.edu.cn']"
      ]
     },
     "execution_count": 33,
     "metadata": {},
     "output_type": "execute_result"
    }
   ],
   "source": [
    "l1"
   ]
  },
  {
   "cell_type": "code",
   "execution_count": 7,
   "metadata": {},
   "outputs": [],
   "source": [
    "teacher_all_message = [['方慧',\n",
    "  '博士',\n",
    "  '助理教授/讲师',\n",
    "  '',\n",
    "  '博导',\n",
    "  '525',\n",
    "  '65901454',\n",
    "  'fang.huiATmail.shufe.edu.cn'],\n",
    " ['冯银波', '博士', '助理研究员', '', '无', '211', '', 'feng.yinbo@mail.shufe.edu.cn'],\n",
    " ['高建军', '博士', '副教授', '', '博导', '515', '65901981', 'gao.jianjun@shufe.edu.cn'],\n",
    " ['葛冬冬',\n",
    "  '博士',\n",
    "  '教授',\n",
    "  '无',\n",
    "  '博导',\n",
    "  '613',\n",
    "  '65901671',\n",
    "  'ge.dongdong@mail.shufe.edu.cn'],\n",
    " ['郭加熠',\n",
    "  '博士',\n",
    "  '助理教授/讲师',\n",
    "  '',\n",
    "  '无',\n",
    "  '402',\n",
    "  '6590 1428',\n",
    "  'guo.jiayi@mail.sufe.edu.cn'],\n",
    " ['郭姗姗',\n",
    "  '博士',\n",
    "  '助理教授/讲师',\n",
    "  '',\n",
    "  '无',\n",
    "  '525',\n",
    "  '65901454',\n",
    "  'guo.shanshan@sufe.edu.cn'],\n",
    " ['韩景倜',\n",
    "  '博士',\n",
    "  '教授',\n",
    "  '上海财经大学实验中心主任',\n",
    "  '博导',\n",
    "  '教技大楼南楼103室',\n",
    "  '65903689',\n",
    "  'hanjt@mail.shufe.edu.cn'],\n",
    " ['何斯迈', '博士', '教授', '', '博导', '402', '65901715', 'simaihe@mail.shufe.edu.cn'],\n",
    " ['江波', '', '副教授', '', '博导', '611', '65900131', 'jiang.bo@mail.shufe.edu.cn'],\n",
    " ['刘春梅', '', '副教授', '', '硕导', '507', '65901179', 'cmliu@mail.shufe.edu.cn']]\n",
    "for teacher_url in  url_all:\n",
    "    page = requests.get('http://sime.shufe.edu.cn'+teacher_url)\n",
    "    page.encoding = 'utf-8'\n",
    "    te = BeautifulSoup(page.text)\n",
    "    message = te.find('div',{'class':'col s7'}).find_all('td')\n",
    "    message = [i.text for i in message][1::2]\n",
    "    teacher_all_message.append(message)"
   ]
  },
  {
   "cell_type": "code",
   "execution_count": 9,
   "metadata": {},
   "outputs": [
    {
     "data": {
      "text/plain": [
       "18"
      ]
     },
     "execution_count": 9,
     "metadata": {},
     "output_type": "execute_result"
    }
   ],
   "source": [
    "len(teacher_all_message)"
   ]
  },
  {
   "cell_type": "code",
   "execution_count": 10,
   "metadata": {},
   "outputs": [],
   "source": [
    "pd.DataFrame(teacher_all_message).to_excel('C:\\\\Users\\\\NYDSJ\\\\Desktop\\\\上财老师.xls')"
   ]
  },
  {
   "cell_type": "code",
   "execution_count": null,
   "metadata": {},
   "outputs": [],
   "source": []
  }
 ],
 "metadata": {
  "kernelspec": {
   "display_name": "Python 3",
   "language": "python",
   "name": "python3"
  },
  "language_info": {
   "codemirror_mode": {
    "name": "ipython",
    "version": 3
   },
   "file_extension": ".py",
   "mimetype": "text/x-python",
   "name": "python",
   "nbconvert_exporter": "python",
   "pygments_lexer": "ipython3",
   "version": "3.7.3"
  }
 },
 "nbformat": 4,
 "nbformat_minor": 2
}
